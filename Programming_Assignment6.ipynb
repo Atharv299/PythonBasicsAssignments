{
 "cells": [
  {
   "cell_type": "code",
   "execution_count": 9,
   "id": "94517192",
   "metadata": {},
   "outputs": [
    {
     "name": "stdout",
     "output_type": "stream",
     "text": [
      "Enter the number of terms 6\n",
      "1 1 2 3 5 8 "
     ]
    }
   ],
   "source": [
    "Q1\n",
    "\n",
    "def fibo(n):\n",
    "    if n<=2:\n",
    "        return 1\n",
    "    else:\n",
    "        return (fibo(n-1)+fibo(n-2))\n",
    "        \n",
    "n=int(input(\"Enter the number of terms \"))\n",
    "for i in range(1,n+1):\n",
    "    print(fibo(i),end=' ')"
   ]
  },
  {
   "cell_type": "code",
   "execution_count": 10,
   "id": "f5540190",
   "metadata": {},
   "outputs": [
    {
     "name": "stdout",
     "output_type": "stream",
     "text": [
      "Enter the number 5\n",
      "120\n"
     ]
    }
   ],
   "source": [
    "Q2\n",
    "\n",
    "def fact(n):\n",
    "    if n<=1:\n",
    "        return 1\n",
    "    else:\n",
    "        return n*fact(n-1)\n",
    "n=int(input(\"Enter the number \"))\n",
    "print(fact(n))"
   ]
  },
  {
   "cell_type": "code",
   "execution_count": 13,
   "id": "b07bf1b0",
   "metadata": {},
   "outputs": [
    {
     "name": "stdout",
     "output_type": "stream",
     "text": [
      "Enter the weight in Kilograms 70\n",
      "Enter height in meters 1.75\n",
      "BMI is 22.86\n"
     ]
    }
   ],
   "source": [
    "Q3\n",
    "\n",
    "w=float(input(\"Enter the weight in Kilograms \"))\n",
    "h=float(input(\"Enter height in meters \"))\n",
    "print(\"BMI is %.2f\"%(w/(h**2)))"
   ]
  },
  {
   "cell_type": "code",
   "execution_count": 16,
   "id": "259f90b9",
   "metadata": {},
   "outputs": [
    {
     "name": "stdout",
     "output_type": "stream",
     "text": [
      "Enter the number 14\n",
      "The natural log is  2.6390573296152584\n"
     ]
    }
   ],
   "source": [
    "Q4\n",
    "\n",
    "import math\n",
    "n=int(input(\"Enter the number \"))\n",
    "print(\"The natural log is \",math.log(n))\n"
   ]
  },
  {
   "cell_type": "code",
   "execution_count": 2,
   "id": "23c5acdd",
   "metadata": {},
   "outputs": [
    {
     "name": "stdout",
     "output_type": "stream",
     "text": [
      "Enter the number 5\n",
      "Sum of cubes of first 5 natural numbers is 225\n"
     ]
    }
   ],
   "source": [
    "Q5\n",
    "\n",
    "n=int(input(\"Enter the number \"))\n",
    "print(\"Sum of cubes of first %i natural numbers is %i\"%(n,(n*(n+1)/2)**2))"
   ]
  }
 ],
 "metadata": {
  "kernelspec": {
   "display_name": "Python 3",
   "language": "python",
   "name": "python3"
  },
  "language_info": {
   "codemirror_mode": {
    "name": "ipython",
    "version": 3
   },
   "file_extension": ".py",
   "mimetype": "text/x-python",
   "name": "python",
   "nbconvert_exporter": "python",
   "pygments_lexer": "ipython3",
   "version": "3.9.0"
  }
 },
 "nbformat": 4,
 "nbformat_minor": 5
}
