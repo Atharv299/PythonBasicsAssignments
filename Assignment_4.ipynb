{
 "cells": [
  {
   "cell_type": "code",
   "execution_count": null,
   "id": "3a7f01b3",
   "metadata": {},
   "outputs": [],
   "source": [
    "Q1\n",
    "\n",
    "[] is an empty list"
   ]
  },
  {
   "cell_type": "code",
   "execution_count": null,
   "id": "c1418060",
   "metadata": {},
   "outputs": [],
   "source": [
    "Q2\n",
    "\n",
    "spam[2]='hello'"
   ]
  },
  {
   "cell_type": "code",
   "execution_count": null,
   "id": "a584f602",
   "metadata": {},
   "outputs": [],
   "source": [
    "Q3\n",
    "\n",
    "spam[int(int('3' * 2) / 11)]=spam[3]='d'"
   ]
  },
  {
   "cell_type": "code",
   "execution_count": null,
   "id": "f7d59458",
   "metadata": {},
   "outputs": [],
   "source": [
    "Q4\n",
    "\n",
    "spam[-1]='d'"
   ]
  },
  {
   "cell_type": "code",
   "execution_count": null,
   "id": "a06b236c",
   "metadata": {},
   "outputs": [],
   "source": [
    "Q5\n",
    "\n",
    "spam[:2]=['a','b']"
   ]
  },
  {
   "cell_type": "code",
   "execution_count": null,
   "id": "792efcff",
   "metadata": {},
   "outputs": [],
   "source": [
    "Q6\n",
    "\n",
    "bacon.index('cat')=1"
   ]
  },
  {
   "cell_type": "code",
   "execution_count": null,
   "id": "32a420f8",
   "metadata": {},
   "outputs": [],
   "source": [
    "Q7\n",
    "\n",
    "after the operation\n",
    "bacon=[3.14, 'cat', 11, 'cat', True, 99]"
   ]
  },
  {
   "cell_type": "code",
   "execution_count": null,
   "id": "8725182a",
   "metadata": {},
   "outputs": [],
   "source": [
    "Q8\n",
    "\n",
    "after the operation\n",
    "bacon=[3.14, 11, 'cat', True, 99]"
   ]
  },
  {
   "cell_type": "code",
   "execution_count": null,
   "id": "8a2f5ff4",
   "metadata": {},
   "outputs": [],
   "source": [
    "Q9\n",
    "\n",
    "1)List concatenation operator is used to join two strings eg.list1 + list2\n",
    "2)List replication operator is used to replicate the list elements several times eg. list1*3"
   ]
  },
  {
   "cell_type": "code",
   "execution_count": null,
   "id": "33a1b351",
   "metadata": {},
   "outputs": [],
   "source": [
    "Q10\n",
    "\n",
    "append method adds the element at the end of the list where as insert method adds the element at the specified index in  the list.\n",
    "eg.lst=[1,3,5]\n",
    "lst.append(6)  #lst=[1,3,5,6]\n",
    "lst.insert(1,4) #lst=[1,4,3,5,6]\n"
   ]
  },
  {
   "cell_type": "code",
   "execution_count": null,
   "id": "667f2a35",
   "metadata": {},
   "outputs": [],
   "source": [
    "Q11\n",
    "\n",
    "1)pop(): This method will remove and return the last element of the list if no index is mentioned otherwise remove and return the last element of the list\n",
    "2)remove(): This method will remove the first element in the list matching with the element passed as an argument."
   ]
  },
  {
   "cell_type": "code",
   "execution_count": null,
   "id": "bcecbbd2",
   "metadata": {},
   "outputs": [],
   "source": [
    "Q12\n",
    "\n",
    "1)Both list values and string values can be indexed.\n",
    "2)Both list values and string values alow slicing operations.\n",
    "3)Methods like len(), index() work for both strings and lists."
   ]
  },
  {
   "cell_type": "code",
   "execution_count": null,
   "id": "30ebb3ec",
   "metadata": {},
   "outputs": [],
   "source": [
    "Q13\n",
    "\n",
    "Tuples:\n",
    "1)Tuple elements are immutable.\n",
    "2)Tuples elements are enclosed within round brackets eg.(1,23,\"22\").\n",
    "3)Tuples do not support append operation.\n",
    "\n",
    "Lists:\n",
    "1)List elements are mutable.\n",
    "2)List elements are enclosed within square brackets eg.[1,23,\"22\"].\n",
    "3)List elements support append operation."
   ]
  },
  {
   "cell_type": "code",
   "execution_count": null,
   "id": "649933a3",
   "metadata": {},
   "outputs": [],
   "source": [
    "Q14\n",
    "\n",
    "mytuple=(42,)"
   ]
  },
  {
   "cell_type": "code",
   "execution_count": null,
   "id": "1381f18e",
   "metadata": {},
   "outputs": [],
   "source": [
    "Q15\n",
    "\n",
    "consider list1 as a list and tuple1 as a tuple of certain elements\n",
    "1)list values tuple form using tuple() function------>tup=tuple(list1)\n",
    "2)tuple values list form using list() function------->lst=list(tuple1)"
   ]
  },
  {
   "cell_type": "code",
   "execution_count": null,
   "id": "9cd15810",
   "metadata": {},
   "outputs": [],
   "source": [
    "Q16\n",
    "\n",
    "Those are string variables containing space separeted list elements as a single string."
   ]
  },
  {
   "cell_type": "code",
   "execution_count": null,
   "id": "a3b3c4ec",
   "metadata": {},
   "outputs": [],
   "source": [
    "Q17\n",
    "\n",
    "In copy.deepcopy() a copy of the object is copied into another object. It means that any changes made to a copy of the object do not reflect in the original object.\n",
    "In copy.copy() a reference of an object is copied into another object. It means that any changes made to a copy of an object do reflect in the original object."
   ]
  }
 ],
 "metadata": {
  "kernelspec": {
   "display_name": "Python 3 (ipykernel)",
   "language": "python",
   "name": "python3"
  },
  "language_info": {
   "codemirror_mode": {
    "name": "ipython",
    "version": 3
   },
   "file_extension": ".py",
   "mimetype": "text/x-python",
   "name": "python",
   "nbconvert_exporter": "python",
   "pygments_lexer": "ipython3",
   "version": "3.9.13"
  }
 },
 "nbformat": 4,
 "nbformat_minor": 5
}
