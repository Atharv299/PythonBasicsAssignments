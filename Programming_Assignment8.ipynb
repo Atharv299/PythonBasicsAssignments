{
 "cells": [
  {
   "cell_type": "code",
   "execution_count": 1,
   "id": "a81c6704",
   "metadata": {},
   "outputs": [
    {
     "name": "stdout",
     "output_type": "stream",
     "text": [
      "Enter the values for matrixA in string format 1 2 3; 4 5 6\n",
      "Enter the values for matrixB in string format 3 2 1; 6 5 4\n",
      "Addition of both matrices is \n",
      "[[ 4  4  4]\n",
      " [10 10 10]]\n"
     ]
    }
   ],
   "source": [
    "Q1\n",
    "\n",
    "from numpy import *\n",
    "matA=matrix(input(\"Enter the values for matrixA in string format \"))\n",
    "matB=matrix(input(\"Enter the values for matrixB in string format \"))\n",
    "print(\"Addition of both matrices is \")\n",
    "print(matA+matB)"
   ]
  },
  {
   "cell_type": "code",
   "execution_count": 2,
   "id": "beaaa9e8",
   "metadata": {},
   "outputs": [
    {
     "name": "stdout",
     "output_type": "stream",
     "text": [
      "Enter the values for matrixA in string format 1 2; 2 1 \n",
      "Enter the values for matrixB in string format 2 1; 1 2\n",
      "Multiplication of both matrices is \n",
      "[[4 5]\n",
      " [5 4]]\n"
     ]
    }
   ],
   "source": [
    "Q2\n",
    "\n",
    "from numpy import *\n",
    "matA=matrix(input(\"Enter the values for matrixA in string format \"))\n",
    "matB=matrix(input(\"Enter the values for matrixB in string format \"))\n",
    "print(\"Multiplication of both matrices is \")\n",
    "print(matA*matB)"
   ]
  },
  {
   "cell_type": "code",
   "execution_count": 3,
   "id": "061f86d6",
   "metadata": {},
   "outputs": [
    {
     "name": "stdout",
     "output_type": "stream",
     "text": [
      "Enter the values for matrixA in string format 1 3; 4 5\n",
      "Transpose of the matrix is \n",
      "[[1 4]\n",
      " [3 5]]\n"
     ]
    }
   ],
   "source": [
    "Q3\n",
    "\n",
    "from numpy import *\n",
    "matA=matrix(input(\"Enter the values for matrixA in string format \"))\n",
    "print(\"Transpose of the matrix is \")\n",
    "print(matA.transpose())"
   ]
  },
  {
   "cell_type": "code",
   "execution_count": 8,
   "id": "3a951fea",
   "metadata": {},
   "outputs": [
    {
     "name": "stdout",
     "output_type": "stream",
     "text": [
      "Enter the words Ram Raju rani\n",
      "The sorted words are:\n",
      "Raju Ram rani "
     ]
    }
   ],
   "source": [
    "Q4\n",
    "\n",
    "words=[x for x in input(\"Enter the words \").split(\" \")]\n",
    "print(\"The sorted words are:\")\n",
    "words.sort()\n",
    "for word in words:\n",
    "    print(word,end=\" \")"
   ]
  },
  {
   "cell_type": "code",
   "execution_count": 9,
   "id": "5ff0d0a6",
   "metadata": {},
   "outputs": [
    {
     "name": "stdout",
     "output_type": "stream",
     "text": [
      "Enter a string :My username is Rahul123, Do you know me? That's great!\n",
      "The original string is :  My username is Rahul123, Do you know me? That's great!\n",
      "The string after punctuation filter :  My username is Rahul123 Do you know me Thats great\n"
     ]
    }
   ],
   "source": [
    "Q5\n",
    "\n",
    "import re\n",
    "test_str = input(\"Enter a string :\")\n",
    "print(\"The original string is : \",test_str)\n",
    "res = re.sub(r'[^\\w\\s]', '', test_str)\n",
    "print(\"The string after punctuation filter : \",res)"
   ]
  }
 ],
 "metadata": {
  "kernelspec": {
   "display_name": "Python 3",
   "language": "python",
   "name": "python3"
  },
  "language_info": {
   "codemirror_mode": {
    "name": "ipython",
    "version": 3
   },
   "file_extension": ".py",
   "mimetype": "text/x-python",
   "name": "python",
   "nbconvert_exporter": "python",
   "pygments_lexer": "ipython3",
   "version": "3.9.0"
  }
 },
 "nbformat": 4,
 "nbformat_minor": 5
}
