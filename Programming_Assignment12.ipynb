{
 "cells": [
  {
   "cell_type": "code",
   "execution_count": 1,
   "id": "2a2c9bde",
   "metadata": {},
   "outputs": [
    {
     "name": "stdout",
     "output_type": "stream",
     "text": [
      "dict_values(['Rishikesh', 'Badrinath', 'Gangotri', 'Yamunotri', 'Kedarnath', 'Tirupati', 'Kedarnath'])\n",
      "Unique Values: ['Gangotri', 'Rishikesh', 'Tirupati', 'Yamunotri', 'Kedarnath', 'Badrinath']\n"
     ]
    }
   ],
   "source": [
    "Q1\n",
    "\n",
    "in_dict = {1:'Rishikesh',2:'Badrinath',3:'Gangotri',4:'Yamunotri',5:'Kedarnath',6:'Tirupati',7:'Kedarnath'}\n",
    "print(in_dict.values())\n",
    "print(f'Unique Values: {list(set(in_dict.values()))}')"
   ]
  },
  {
   "cell_type": "code",
   "execution_count": 2,
   "id": "f69a6ac9",
   "metadata": {},
   "outputs": [
    {
     "name": "stdout",
     "output_type": "stream",
     "text": [
      "Sum of All items:  300\n"
     ]
    }
   ],
   "source": [
    "Q2\n",
    "\n",
    "in_dict = {'Apple':10,'Mango':20,'Banana':30,'Guava':40,'PineApple':200}\n",
    "print('Sum of All items: ',sum(in_dict.values()))"
   ]
  },
  {
   "cell_type": "code",
   "execution_count": 3,
   "id": "2c1f3bcc",
   "metadata": {},
   "outputs": [
    {
     "name": "stdout",
     "output_type": "stream",
     "text": [
      "{'cousre_name': 'Data science', 'course_instructors': ['Ram', 'Lakhan']}\n"
     ]
    }
   ],
   "source": [
    "Q3\n",
    "\n",
    "course_details = {\n",
    "    'cousre_name':'Data science'\n",
    "}\n",
    "instructors = {\n",
    "    'course_instructors':['Ram','Lakhan']\n",
    "}\n",
    "course_details.update(instructors)\n",
    "print(course_details)"
   ]
  },
  {
   "cell_type": "code",
   "execution_count": 4,
   "id": "1df663ce",
   "metadata": {},
   "outputs": [
    {
     "data": {
      "text/plain": [
       "{'A': 10,\n",
       " 'B': 20,\n",
       " 'C': 30,\n",
       " 'D': 40,\n",
       " 'E': 50,\n",
       " 'F': 60,\n",
       " 'G': 70,\n",
       " 'H': 80,\n",
       " 'I': 90,\n",
       " 'J': 100}"
      ]
     },
     "execution_count": 4,
     "metadata": {},
     "output_type": "execute_result"
    }
   ],
   "source": [
    "Q4\n",
    "\n",
    "in_list = [('A',10),('B',20),('C',30),('D',40),('E',50),('F',60),('G',70),('H',80),('I',90),('J',100)]\n",
    "dict(in_list)"
   ]
  },
  {
   "cell_type": "code",
   "execution_count": 5,
   "id": "2fbe234b",
   "metadata": {},
   "outputs": [
    {
     "name": "stdout",
     "output_type": "stream",
     "text": [
      "dict_one OrderedDict([('Apple', 'Iphone'), ('Microsoft', 'Windows'), ('Google', 'chrome')])\n",
      "dict_one OrderedDict([('Apple', 'Iphone'), ('Microsoft', 'Windows'), ('Google', 'chrome'), ('Tesla', 'SpaceX')])\n",
      "dict_one OrderedDict([('Tesla', 'SpaceX'), ('Apple', 'Iphone'), ('Microsoft', 'Windows'), ('Google', 'chrome')])\n"
     ]
    }
   ],
   "source": [
    "Q5\n",
    "\n",
    "from collections import OrderedDict\n",
    "dict_one = OrderedDict({'Apple':'Iphone','Microsoft':'Windows','Google':'chrome'})\n",
    "print('dict_one',dict_one)\n",
    "dict_two = {'Tesla':'SpaceX'}\n",
    "dict_one.update(dict_two)\n",
    "print('dict_one',dict_one)\n",
    "dict_one.move_to_end('Tesla',last=False)\n",
    "print('dict_one',dict_one)"
   ]
  },
  {
   "cell_type": "code",
   "execution_count": 6,
   "id": "fb96c96f",
   "metadata": {},
   "outputs": [
    {
     "name": "stdout",
     "output_type": "stream",
     "text": [
      "{'a': 1000, 'f': 200, 'd': 300, 'c': 400, 'b': 500, 'e': 600}\n",
      "OrderedDict([('a', 1000), ('b', 500), ('c', 400), ('d', 300), ('e', 600), ('f', 200)])\n"
     ]
    }
   ],
   "source": [
    "Q6\n",
    "\n",
    "from collections import OrderedDict\n",
    "\n",
    "initial_list = {'a': 1000, 'f': 200, 'd': 300, 'c': 400, 'b': 500, 'e': 600}\n",
    "print(initial_list)\n",
    "\n",
    "final_list = OrderedDict(dict(sorted(initial_list.items())))\n",
    "print(final_list)"
   ]
  },
  {
   "cell_type": "code",
   "execution_count": 7,
   "id": "e790adc7",
   "metadata": {},
   "outputs": [
    {
     "name": "stdout",
     "output_type": "stream",
     "text": [
      "{'Banana': 60, 'Grape': 13, 'Mango': 100, 'PineApple': 22}\n",
      "{'Grape': 13, 'PineApple': 22, 'Banana': 60, 'Mango': 100}\n"
     ]
    }
   ],
   "source": [
    "Q7\n",
    "\n",
    "d_items = {'Mango':100,'PineApple':22,'Banana':60,'Grape':13}\n",
    "\n",
    "def sort_dict(in_dict,sort_type):\n",
    "    if sort_type == 'key':\n",
    "        print(dict(sorted(in_dict.items(), key=lambda x:x[0], reverse=False)))\n",
    "    else:\n",
    "        print(dict(sorted(in_dict.items(), key=lambda x:x[1], reverse=False)))\n",
    "        \n",
    "sort_dict(d_items,'key')        \n",
    "sort_dict(d_items,'value')"
   ]
  }
 ],
 "metadata": {
  "kernelspec": {
   "display_name": "Python 3",
   "language": "python",
   "name": "python3"
  },
  "language_info": {
   "codemirror_mode": {
    "name": "ipython",
    "version": 3
   },
   "file_extension": ".py",
   "mimetype": "text/x-python",
   "name": "python",
   "nbconvert_exporter": "python",
   "pygments_lexer": "ipython3",
   "version": "3.9.0"
  }
 },
 "nbformat": 4,
 "nbformat_minor": 5
}
