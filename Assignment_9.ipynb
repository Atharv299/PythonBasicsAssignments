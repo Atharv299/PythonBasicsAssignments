{
 "cells": [
  {
   "cell_type": "code",
   "execution_count": null,
   "id": "83ff81da",
   "metadata": {},
   "outputs": [],
   "source": [
    "Q1\n",
    "\n",
    "Relative paths are relative to the current working directory."
   ]
  },
  {
   "cell_type": "code",
   "execution_count": null,
   "id": "0c5bc645",
   "metadata": {},
   "outputs": [],
   "source": [
    "Q2\n",
    "\n",
    "Absolute paths start with the root folder, such as / or C:\\."
   ]
  },
  {
   "cell_type": "code",
   "execution_count": null,
   "id": "968e1629",
   "metadata": {},
   "outputs": [],
   "source": [
    "Q3\n",
    "\n",
    "The os.getcwd() function returns the current working directory. The os.chdir() function changes the current working directory."
   ]
  },
  {
   "cell_type": "code",
   "execution_count": null,
   "id": "fafda6e7",
   "metadata": {},
   "outputs": [],
   "source": [
    "Q4\n",
    "\n",
    "The . folder is the current folder, and .. is the parent folder."
   ]
  },
  {
   "cell_type": "code",
   "execution_count": null,
   "id": "f1402db5",
   "metadata": {},
   "outputs": [],
   "source": [
    "Q5\n",
    "\n",
    "C:\\bacon\\eggs is the dir name, while spam.txt is the base name."
   ]
  },
  {
   "cell_type": "code",
   "execution_count": null,
   "id": "c7b2b9af",
   "metadata": {},
   "outputs": [],
   "source": [
    "Q6\n",
    "\n",
    "The string 'r' for read mode, 'w' for write mode, and 'a' for append mode."
   ]
  },
  {
   "cell_type": "code",
   "execution_count": null,
   "id": "85f7a7fb",
   "metadata": {},
   "outputs": [],
   "source": [
    "Q7\n",
    "\n",
    "An existing file opened in write mode is erased and completely overwritten."
   ]
  },
  {
   "cell_type": "code",
   "execution_count": null,
   "id": "a1d627af",
   "metadata": {},
   "outputs": [],
   "source": [
    "Q8\n",
    "\n",
    "The read() method returns the file’s entire contents as a single string value. The readlines() method returns a list of strings, where each string is a line from the file’s contents."
   ]
  },
  {
   "cell_type": "code",
   "execution_count": null,
   "id": "5375256e",
   "metadata": {},
   "outputs": [],
   "source": [
    "Q9\n",
    "\n",
    "A shelf value resembles a dictionary value. it has keys and values, along with keys() and values() methods that work similarly to the dictionary methods of the same names"
   ]
  }
 ],
 "metadata": {
  "kernelspec": {
   "display_name": "Python 3 (ipykernel)",
   "language": "python",
   "name": "python3"
  },
  "language_info": {
   "codemirror_mode": {
    "name": "ipython",
    "version": 3
   },
   "file_extension": ".py",
   "mimetype": "text/x-python",
   "name": "python",
   "nbconvert_exporter": "python",
   "pygments_lexer": "ipython3",
   "version": "3.9.13"
  }
 },
 "nbformat": 4,
 "nbformat_minor": 5
}
