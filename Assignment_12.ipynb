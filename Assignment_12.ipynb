{
 "cells": [
  {
   "cell_type": "code",
   "execution_count": null,
   "id": "77ff6256",
   "metadata": {},
   "outputs": [],
   "source": [
    "Q1\n",
    "\n",
    "read binary (rb) for PdfFileREader() and write binary (wb) PdfFileWriter()"
   ]
  },
  {
   "cell_type": "code",
   "execution_count": null,
   "id": "bb77679d",
   "metadata": {},
   "outputs": [],
   "source": [
    "Q2\n",
    "\n",
    "Call getPage(4) method for object 5"
   ]
  },
  {
   "cell_type": "code",
   "execution_count": null,
   "id": "0e0ff8da",
   "metadata": {},
   "outputs": [],
   "source": [
    "Q3\n",
    "\n",
    "numPages variable stores the number of pages in pdf"
   ]
  },
  {
   "cell_type": "code",
   "execution_count": null,
   "id": "e7f754c5",
   "metadata": {},
   "outputs": [],
   "source": [
    "Q4\n",
    "\n",
    "Call decrypt('swordfish') to decrypt the pdf first."
   ]
  },
  {
   "cell_type": "code",
   "execution_count": null,
   "id": "b30f1aee",
   "metadata": {},
   "outputs": [],
   "source": [
    "Q5\n",
    "\n",
    "The rotateClockwise() and rotateCounterClockwise() methods are used to rotate the page. The degrees to rotate is passed as an argument"
   ]
  },
  {
   "cell_type": "code",
   "execution_count": null,
   "id": "4f702f1f",
   "metadata": {},
   "outputs": [],
   "source": [
    "Q6\n",
    "\n",
    "1)Paragraph Object : A document contains multiple paragraphs. A paragraph begins on a new line and contains multiple\n",
    "runs. The Document object contains a list of Paragraph objects for the paragraphs in the document.\n",
    "2)Run Objects : Runs are contiguous groups of characters within a paragraph with the same style."
   ]
  },
  {
   "cell_type": "code",
   "execution_count": null,
   "id": "e52fa391",
   "metadata": {},
   "outputs": [],
   "source": [
    "Q7\n",
    "\n",
    "call doc.paragraphs"
   ]
  },
  {
   "cell_type": "code",
   "execution_count": null,
   "id": "3d8734c2",
   "metadata": {},
   "outputs": [],
   "source": [
    "Q8\n",
    "\n",
    "A Run object has bold, underline,italic,strike and outline variables."
   ]
  },
  {
   "cell_type": "code",
   "execution_count": null,
   "id": "cb63513e",
   "metadata": {},
   "outputs": [],
   "source": [
    "Q9\n",
    "\n",
    "True always makes the Run object bolded and False makes it always not bolded, no matter what the style’s bold setting is. None will make the Run object just use the style’s bold setting."
   ]
  },
  {
   "cell_type": "code",
   "execution_count": null,
   "id": "eba80f06",
   "metadata": {},
   "outputs": [],
   "source": [
    "Q10\n",
    "\n",
    "Call docx.Document()"
   ]
  },
  {
   "cell_type": "code",
   "execution_count": null,
   "id": "1839b801",
   "metadata": {},
   "outputs": [],
   "source": [
    "Q11\n",
    "\n",
    "doc.add_paragraph('Hello there!')\n",
    "doc.save('hellothere.docx')"
   ]
  },
  {
   "cell_type": "code",
   "execution_count": null,
   "id": "041d3a77",
   "metadata": {},
   "outputs": [],
   "source": [
    "Q12\n",
    "\n",
    "Integer from 0 to 4. The integer 0 makes the heading the Title style, which is used for the top of the document. Integers 1 to 4 are for various heading levels, with 1 being the main heading and 4 the lowest subheading"
   ]
  }
 ],
 "metadata": {
  "kernelspec": {
   "display_name": "Python 3 (ipykernel)",
   "language": "python",
   "name": "python3"
  },
  "language_info": {
   "codemirror_mode": {
    "name": "ipython",
    "version": 3
   },
   "file_extension": ".py",
   "mimetype": "text/x-python",
   "name": "python",
   "nbconvert_exporter": "python",
   "pygments_lexer": "ipython3",
   "version": "3.9.13"
  }
 },
 "nbformat": 4,
 "nbformat_minor": 5
}
