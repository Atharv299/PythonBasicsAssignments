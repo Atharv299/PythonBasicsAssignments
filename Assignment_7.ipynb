{
 "cells": [
  {
   "cell_type": "code",
   "execution_count": null,
   "id": "db4d34d0",
   "metadata": {},
   "outputs": [],
   "source": [
    "Q1\n",
    "\n",
    "compile() method of regex module generates the regular expression object."
   ]
  },
  {
   "cell_type": "code",
   "execution_count": null,
   "id": "75a66b9c",
   "metadata": {},
   "outputs": [],
   "source": [
    "Q2\n",
    "\n",
    "raw string denotes the text pattern with the combination of sequence characters, quantifiers and special characters.This string is precceded with letter 'r' which states that it is a raw string which specifies a text pattern hence it is different from normal string."
   ]
  },
  {
   "cell_type": "code",
   "execution_count": null,
   "id": "4c3b2ce9",
   "metadata": {},
   "outputs": [],
   "source": [
    "Q3\n",
    "\n",
    "search() method searches the pattern and returns the first string matched according to the expression. "
   ]
  },
  {
   "cell_type": "code",
   "execution_count": null,
   "id": "a98f02d5",
   "metadata": {},
   "outputs": [],
   "source": [
    "Q4\n",
    "\n",
    "Use group() method to get the actual strings that match the pattern."
   ]
  },
  {
   "cell_type": "code",
   "execution_count": null,
   "id": "6b866cc7",
   "metadata": {},
   "outputs": [],
   "source": [
    "Q5\n",
    "\n",
    "group(1) contains strings containing 3 digits characters.eg.987\n",
    "group(2) contains strings with 3 digit charcters followed by hyphen and 4 digit characters.eg.678-9680\n",
    "group(0) contains the target string which is a combination of group(1) and group(2) eg.987-678-9680"
   ]
  },
  {
   "cell_type": "code",
   "execution_count": null,
   "id": "3ebf73e2",
   "metadata": {},
   "outputs": [],
   "source": [
    "Q6\n",
    "\n",
    "Periods and parentheses can be escaped with a backslash: \\"
   ]
  },
  {
   "cell_type": "code",
   "execution_count": null,
   "id": "10449722",
   "metadata": {},
   "outputs": [],
   "source": [
    "Q7\n",
    "\n",
    "The findall() method returns a list of string tuples. It finds the pattern from the begining to the end of the text. It adds the string into list whenever it is found."
   ]
  },
  {
   "cell_type": "code",
   "execution_count": null,
   "id": "15503c3d",
   "metadata": {},
   "outputs": [],
   "source": [
    "Q8\n",
    "\n",
    "'|' is a special character that matches either of the regular expressions present on both sides of it."
   ]
  },
  {
   "cell_type": "code",
   "execution_count": null,
   "id": "f814e4e3",
   "metadata": {},
   "outputs": [],
   "source": [
    "Q9\n",
    "\n",
    "A character denotes the pattern to be matched and is used to form a regular expression. Sequence characters, quantifiers and special characters matches the special strings while other characters matches with themselves "
   ]
  },
  {
   "cell_type": "code",
   "execution_count": null,
   "id": "8ce64a1f",
   "metadata": {},
   "outputs": [],
   "source": [
    "Q10\n",
    "\n",
    "'+' is a quantifier which specifies 1 or more repetitions of preceding regular expression.\n",
    "'*' is a quantifier which specifies 0 or more repetitions of preceding regular expression."
   ]
  },
  {
   "cell_type": "code",
   "execution_count": null,
   "id": "fbb209cc",
   "metadata": {},
   "outputs": [],
   "source": [
    "Q11\n",
    "\n",
    "{4} represents exact 4 occurances of preceding character and {4,5} represents 4 or 5 occurances of preceding character"
   ]
  },
  {
   "cell_type": "code",
   "execution_count": null,
   "id": "bb6843a8",
   "metadata": {},
   "outputs": [],
   "source": [
    "Q12\n",
    "\n",
    "'\\d' matches with digit character eg.0-9\n",
    "'\\s' matches with whitespace character eg.\\n\\t\n",
    "'\\w' matches with alphanumeric character eg.0-9,A-Z,a-z"
   ]
  },
  {
   "cell_type": "code",
   "execution_count": null,
   "id": "3c6ec5aa",
   "metadata": {},
   "outputs": [],
   "source": [
    "Q13\n",
    "\n",
    "'\\D' matches with non-digit character eg.all characters except 0-9\n",
    "'\\S' matches with non-whitespace character eg.all characters except \\n\\t\n",
    "'\\W' matches with non-alphanumeric character eg.all characters except 0-9,A-Z,a-z"
   ]
  },
  {
   "cell_type": "code",
   "execution_count": null,
   "id": "8303a1f4",
   "metadata": {},
   "outputs": [],
   "source": [
    "Q14\n",
    "\n",
    "'.*' is a greedy matching where it tries to match as many characters as possible, and when this doesn't work they have to backtrack\n",
    "'.*?' is a non greedy matching where it tries to match as few characters as possible, and when this doesn't work they have to backtrack"
   ]
  },
  {
   "cell_type": "code",
   "execution_count": null,
   "id": "3ee13a2f",
   "metadata": {},
   "outputs": [],
   "source": [
    "Q15\n",
    "\n",
    "Regular expression for matching both numbers and lowercase letters:\n",
    "    r'\\d|[a-z]'"
   ]
  },
  {
   "cell_type": "code",
   "execution_count": null,
   "id": "c5e05dc2",
   "metadata": {},
   "outputs": [],
   "source": [
    "Q16\n",
    "\n",
    "set flag=re.IGNORECASE while calling the regex methods."
   ]
  },
  {
   "cell_type": "code",
   "execution_count": null,
   "id": "f21cc0ed",
   "metadata": {},
   "outputs": [],
   "source": [
    "Q17\n",
    "\n",
    "'.' character matches any character excluding newline.\n",
    "With the help of DOTALL flag the '.' character can match any character including newline."
   ]
  },
  {
   "cell_type": "code",
   "execution_count": null,
   "id": "b11ca930",
   "metadata": {},
   "outputs": [],
   "source": [
    "Q18\n",
    "\n",
    "It will return 'X drummers, X pipers, five rings, X hen'"
   ]
  },
  {
   "cell_type": "code",
   "execution_count": null,
   "id": "d16ac83f",
   "metadata": {},
   "outputs": [],
   "source": [
    "Q19\n",
    "\n",
    "re.VERBOSE allows user to write regular expressions that look nicer and are more readable by allowing user to visually separate logical sections of the pattern and add comments."
   ]
  },
  {
   "cell_type": "code",
   "execution_count": null,
   "id": "f9626ff0",
   "metadata": {},
   "outputs": [],
   "source": [
    "Q20\n",
    "\n",
    "r'^(\\d{1,3})(,\\d{3})*$'"
   ]
  },
  {
   "cell_type": "code",
   "execution_count": null,
   "id": "73b92990",
   "metadata": {},
   "outputs": [],
   "source": [
    "Q21\n",
    "\n",
    "r'^[A-Z][A-za-z]*\\sWatanabe$'"
   ]
  },
  {
   "cell_type": "code",
   "execution_count": null,
   "id": "babe760d",
   "metadata": {},
   "outputs": [],
   "source": [
    "Q22\n",
    "\n",
    "r'(?i)^(Alice|Bob|Carol)\\s(eats|pets|throws)\\s(apples|cats|baseballs)$'"
   ]
  }
 ],
 "metadata": {
  "kernelspec": {
   "display_name": "Python 3 (ipykernel)",
   "language": "python",
   "name": "python3"
  },
  "language_info": {
   "codemirror_mode": {
    "name": "ipython",
    "version": 3
   },
   "file_extension": ".py",
   "mimetype": "text/x-python",
   "name": "python",
   "nbconvert_exporter": "python",
   "pygments_lexer": "ipython3",
   "version": "3.9.13"
  }
 },
 "nbformat": 4,
 "nbformat_minor": 5
}
