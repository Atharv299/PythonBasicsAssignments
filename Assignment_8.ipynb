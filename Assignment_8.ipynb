{
 "cells": [
  {
   "cell_type": "code",
   "execution_count": null,
   "id": "9241a571",
   "metadata": {},
   "outputs": [],
   "source": [
    "Q1\n",
    "\n",
    "PyInputPlus is not a part of the Python Standard Library, we have to install it separately using Pip."
   ]
  },
  {
   "cell_type": "code",
   "execution_count": null,
   "id": "fb656387",
   "metadata": {},
   "outputs": [],
   "source": [
    "Q2\n",
    "\n",
    "We import the module with import pyinputplus as pyip so that we can enter a shorter name when calling the module’s functions"
   ]
  },
  {
   "cell_type": "code",
   "execution_count": null,
   "id": "ada440e9",
   "metadata": {},
   "outputs": [],
   "source": [
    "Q3\n",
    "\n",
    "inputInt() program expects an integer value as input but inputFloat() expects a float value i.e number containing a decimal"
   ]
  },
  {
   "cell_type": "code",
   "execution_count": null,
   "id": "a4c1d53e",
   "metadata": {},
   "outputs": [],
   "source": [
    "Q4\n",
    "\n",
    "pyip.inputint(min=0, max=99)"
   ]
  },
  {
   "cell_type": "code",
   "execution_count": null,
   "id": "6d1a2742",
   "metadata": {},
   "outputs": [],
   "source": [
    "Q5\n",
    "\n",
    "A list of regex strings that are either explicitly allowed or denied."
   ]
  },
  {
   "cell_type": "code",
   "execution_count": null,
   "id": "9938c79c",
   "metadata": {},
   "outputs": [],
   "source": [
    "Q6\n",
    "\n",
    "The function will raise RetryLimitException."
   ]
  },
  {
   "cell_type": "code",
   "execution_count": null,
   "id": "ffed70b4",
   "metadata": {},
   "outputs": [],
   "source": [
    "Q7\n",
    "\n",
    "The function returns the value 'hello'."
   ]
  }
 ],
 "metadata": {
  "kernelspec": {
   "display_name": "Python 3 (ipykernel)",
   "language": "python",
   "name": "python3"
  },
  "language_info": {
   "codemirror_mode": {
    "name": "ipython",
    "version": 3
   },
   "file_extension": ".py",
   "mimetype": "text/x-python",
   "name": "python",
   "nbconvert_exporter": "python",
   "pygments_lexer": "ipython3",
   "version": "3.9.13"
  }
 },
 "nbformat": 4,
 "nbformat_minor": 5
}
