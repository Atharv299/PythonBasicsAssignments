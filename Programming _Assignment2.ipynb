{
 "cells": [
  {
   "cell_type": "code",
   "execution_count": 5,
   "id": "84bbf647",
   "metadata": {},
   "outputs": [
    {
     "name": "stdout",
     "output_type": "stream",
     "text": [
      "Enter kilometers\n",
      "1.5\n",
      "1.50 kilometers are 0.93 miles\n"
     ]
    }
   ],
   "source": [
    "Q1\n",
    "\n",
    "print('Enter kilometers')\n",
    "k=float(input())\n",
    "print('%.2f kilometers are %.2f miles'%(k,k/1.609))"
   ]
  },
  {
   "cell_type": "code",
   "execution_count": 6,
   "id": "626475c9",
   "metadata": {},
   "outputs": [
    {
     "name": "stdout",
     "output_type": "stream",
     "text": [
      "Enter fahrenheits\n",
      "59.5\n",
      "59.50 fahrenheits are 15.28 Celsius\n"
     ]
    }
   ],
   "source": [
    "Q2\n",
    "\n",
    "print('Enter fahrenheits')\n",
    "f=float(input())\n",
    "c=(f-32)*(5/9)\n",
    "print('%.2f fahrenheits are %.2f Celsius'%(f,c))"
   ]
  },
  {
   "cell_type": "code",
   "execution_count": 18,
   "id": "799307b7",
   "metadata": {},
   "outputs": [
    {
     "name": "stdout",
     "output_type": "stream",
     "text": [
      "Calender of the year 2023\n",
      "                                   2023\n",
      "\n",
      "      January                    February                    March\n",
      "Mo Tu We Th Fr Sa Su       Mo Tu We Th Fr Sa Su       Mo Tu We Th Fr Sa Su\n",
      "                   1              1  2  3  4  5              1  2  3  4  5\n",
      " 2  3  4  5  6  7  8        6  7  8  9 10 11 12        6  7  8  9 10 11 12\n",
      " 9 10 11 12 13 14 15       13 14 15 16 17 18 19       13 14 15 16 17 18 19\n",
      "16 17 18 19 20 21 22       20 21 22 23 24 25 26       20 21 22 23 24 25 26\n",
      "23 24 25 26 27 28 29       27 28                      27 28 29 30 31\n",
      "30 31\n",
      "\n",
      "       April                       May                        June\n",
      "Mo Tu We Th Fr Sa Su       Mo Tu We Th Fr Sa Su       Mo Tu We Th Fr Sa Su\n",
      "                1  2        1  2  3  4  5  6  7                 1  2  3  4\n",
      " 3  4  5  6  7  8  9        8  9 10 11 12 13 14        5  6  7  8  9 10 11\n",
      "10 11 12 13 14 15 16       15 16 17 18 19 20 21       12 13 14 15 16 17 18\n",
      "17 18 19 20 21 22 23       22 23 24 25 26 27 28       19 20 21 22 23 24 25\n",
      "24 25 26 27 28 29 30       29 30 31                   26 27 28 29 30\n",
      "\n",
      "        July                      August                   September\n",
      "Mo Tu We Th Fr Sa Su       Mo Tu We Th Fr Sa Su       Mo Tu We Th Fr Sa Su\n",
      "                1  2           1  2  3  4  5  6                    1  2  3\n",
      " 3  4  5  6  7  8  9        7  8  9 10 11 12 13        4  5  6  7  8  9 10\n",
      "10 11 12 13 14 15 16       14 15 16 17 18 19 20       11 12 13 14 15 16 17\n",
      "17 18 19 20 21 22 23       21 22 23 24 25 26 27       18 19 20 21 22 23 24\n",
      "24 25 26 27 28 29 30       28 29 30 31                25 26 27 28 29 30\n",
      "31\n",
      "\n",
      "      October                    November                   December\n",
      "Mo Tu We Th Fr Sa Su       Mo Tu We Th Fr Sa Su       Mo Tu We Th Fr Sa Su\n",
      "                   1              1  2  3  4  5                    1  2  3\n",
      " 2  3  4  5  6  7  8        6  7  8  9 10 11 12        4  5  6  7  8  9 10\n",
      " 9 10 11 12 13 14 15       13 14 15 16 17 18 19       11 12 13 14 15 16 17\n",
      "16 17 18 19 20 21 22       20 21 22 23 24 25 26       18 19 20 21 22 23 24\n",
      "23 24 25 26 27 28 29       27 28 29 30                25 26 27 28 29 30 31\n",
      "30 31\n",
      "\n"
     ]
    }
   ],
   "source": [
    "Q3\n",
    "\n",
    "from calendar import *\n",
    "print(\"Calender of the year 2023\")\n",
    "print(calendar(2023,1,1,7,3))"
   ]
  },
  {
   "cell_type": "code",
   "execution_count": 19,
   "id": "cf6a3059",
   "metadata": {},
   "outputs": [
    {
     "name": "stdout",
     "output_type": "stream",
     "text": [
      "Enter a = 1\n",
      "Enter b = 5\n",
      "Enter c = 6\n",
      "(-2+0j) , (-3+0j)\n"
     ]
    }
   ],
   "source": [
    "Q4\n",
    "\n",
    "import cmath\n",
    "a=int(input(\"Enter a = \"))\n",
    "b=int(input(\"Enter b = \"))\n",
    "c=int(input(\"Enter c = \"))\n",
    "discriminant = (b**2)-(4*a*c)\n",
    "sol_one = (-b+cmath.sqrt(discriminant))/(2*a)\n",
    "sol_two = (-b-cmath.sqrt(discriminant))/(2*a)\n",
    "print(sol_one ,\",\", sol_two)"
   ]
  },
  {
   "cell_type": "code",
   "execution_count": 21,
   "id": "095c81e4",
   "metadata": {},
   "outputs": [
    {
     "name": "stdout",
     "output_type": "stream",
     "text": [
      "First Variable =20\n",
      "Second Variable =30\n",
      "After swapping First variable = 30, second variable = 20\n"
     ]
    }
   ],
   "source": [
    "Q5\n",
    "\n",
    "first_variable = int(input(\"First Variable =\"))\n",
    "second_variable = int(input(\"Second Variable =\"))\n",
    "first_variable,second_variable = second_variable,first_variable\n",
    "print(\"After swapping First variable = %i, second variable = %i\"%(first_variable,second_variable))\n"
   ]
  }
 ],
 "metadata": {
  "kernelspec": {
   "display_name": "Python 3 (ipykernel)",
   "language": "python",
   "name": "python3"
  },
  "language_info": {
   "codemirror_mode": {
    "name": "ipython",
    "version": 3
   },
   "file_extension": ".py",
   "mimetype": "text/x-python",
   "name": "python",
   "nbconvert_exporter": "python",
   "pygments_lexer": "ipython3",
   "version": "3.9.13"
  }
 },
 "nbformat": 4,
 "nbformat_minor": 5
}
