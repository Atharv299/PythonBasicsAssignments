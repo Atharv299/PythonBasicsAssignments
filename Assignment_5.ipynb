{
 "cells": [
  {
   "cell_type": "code",
   "execution_count": null,
   "id": "1b64450b",
   "metadata": {},
   "outputs": [],
   "source": [
    "Q1\n",
    "\n",
    "dic={}\n",
    "the above is an empty dictionary"
   ]
  },
  {
   "cell_type": "code",
   "execution_count": null,
   "id": "c4d461cc",
   "metadata": {},
   "outputs": [],
   "source": [
    "Q2\n",
    "\n",
    "value will be 42 corresponding to the key 'foo'"
   ]
  },
  {
   "cell_type": "code",
   "execution_count": null,
   "id": "bd929e41",
   "metadata": {},
   "outputs": [],
   "source": [
    "Q3\n",
    "\n",
    "1)List is a collection of index values pairs whereas Dictionary is a collection of key and value pairs  of any datatypes.\n",
    "2)List elements are enclosed in square bracket and  dictionary  elements in curly brackets.\n",
    "3)List elements are accessed using list indices and dictionry elements are accessed using key. "
   ]
  },
  {
   "cell_type": "code",
   "execution_count": null,
   "id": "807c314b",
   "metadata": {},
   "outputs": [],
   "source": [
    "Q4\n",
    "\n",
    "It will raise a keyerror becaue the key 'foo' is not present."
   ]
  },
  {
   "cell_type": "code",
   "execution_count": null,
   "id": "630fac5a",
   "metadata": {},
   "outputs": [],
   "source": [
    "Q5\n",
    "\n",
    "'cat' in spam and 'cat' in spam.keys() both will give the same output. Both will check the presense of 'cat' in keys of dictionary"
   ]
  },
  {
   "cell_type": "code",
   "execution_count": null,
   "id": "94dca744",
   "metadata": {},
   "outputs": [],
   "source": [
    "Q6\n",
    "\n",
    "'cat' in spam will check the presense of 'cat' in keys of dictionary and 'cat' in spam.values() will check the presense of 'cat' in values of dictionary"
   ]
  },
  {
   "cell_type": "code",
   "execution_count": null,
   "id": "cad562bb",
   "metadata": {},
   "outputs": [],
   "source": [
    "Q7\n",
    "\n",
    "Use the setdefault() function which will add the key vaue pair in  dictionary if the key is not present already.\n",
    "eg.\n",
    "dic={\"d\":1}\n",
    "dic.setdefault(\"k\",4)"
   ]
  },
  {
   "cell_type": "code",
   "execution_count": null,
   "id": "6032a289",
   "metadata": {},
   "outputs": [],
   "source": [
    "Q8\n",
    "\n",
    "First import pretty print module as pprint and call function pprint()\n",
    "eg.\n",
    "import pprint\n",
    "pprint.pprint(dict)"
   ]
  }
 ],
 "metadata": {
  "kernelspec": {
   "display_name": "Python 3 (ipykernel)",
   "language": "python",
   "name": "python3"
  },
  "language_info": {
   "codemirror_mode": {
    "name": "ipython",
    "version": 3
   },
   "file_extension": ".py",
   "mimetype": "text/x-python",
   "name": "python",
   "nbconvert_exporter": "python",
   "pygments_lexer": "ipython3",
   "version": "3.9.13"
  }
 },
 "nbformat": 4,
 "nbformat_minor": 5
}
