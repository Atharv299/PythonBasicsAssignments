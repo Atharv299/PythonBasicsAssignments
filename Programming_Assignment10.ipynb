{
 "cells": [
  {
   "cell_type": "code",
   "execution_count": 1,
   "id": "ee62eb04",
   "metadata": {},
   "outputs": [
    {
     "name": "stdout",
     "output_type": "stream",
     "text": [
      "Enter the length of your list : 4\n",
      "1\n",
      "3\n",
      "2\n",
      "44\n",
      "The List is  [1, 3, 2, 44]\n",
      "Sum of elements in List 50\n"
     ]
    }
   ],
   "source": [
    "Q1\n",
    "\n",
    "n = int(input(\"Enter the length of your list : \"))\n",
    "lst = []\n",
    "\n",
    "for i in range(n):\n",
    "    lst.append(int(input()))\n",
    "print(\"The List is \",lst)\n",
    "print(\"Sum of elements in List\",sum(lst))"
   ]
  },
  {
   "cell_type": "code",
   "execution_count": 1,
   "id": "da794451",
   "metadata": {},
   "outputs": [
    {
     "name": "stdout",
     "output_type": "stream",
     "text": [
      "Enter the length of your list : 5\n",
      "1\n",
      "2\n",
      "3\n",
      "4\n",
      "11\n",
      "The List is  [1, 2, 3, 4, 11]\n",
      "Product of elements in List is : 264\n"
     ]
    }
   ],
   "source": [
    "Q2\n",
    "\n",
    "n = int(input(\"Enter the length of your list : \"))\n",
    "lst = []\n",
    "\n",
    "for i in range(n):\n",
    "    lst.append(int(input()))\n",
    "print(\"The List is \",lst)\n",
    "product = 1\n",
    "for i in lst:\n",
    "    product = product*i\n",
    "print(\"Product of elements in List is :\",product)"
   ]
  },
  {
   "cell_type": "code",
   "execution_count": 2,
   "id": "1f456c13",
   "metadata": {},
   "outputs": [
    {
     "name": "stdout",
     "output_type": "stream",
     "text": [
      "Enter the length of your list : 4\n",
      "11\n",
      "34\n",
      "3\n",
      "12\n",
      "The List is  [11, 34, 3, 12]\n",
      "The Smallest no. in the list is : 3\n"
     ]
    }
   ],
   "source": [
    "Q3\n",
    "\n",
    "n = int(input(\"Enter the length of your list : \"))\n",
    "lst = []\n",
    "\n",
    "for i in range(n):\n",
    "    lst.append(int(input()))\n",
    "print(\"The List is \",lst)\n",
    "print(\"The Smallest no. in the list is :\",min(lst))\n",
    "     "
   ]
  },
  {
   "cell_type": "code",
   "execution_count": 3,
   "id": "9905d9df",
   "metadata": {},
   "outputs": [
    {
     "name": "stdout",
     "output_type": "stream",
     "text": [
      "Enter the lenth of your list : 5\n",
      "11\n",
      "2\n",
      "3\n",
      "113\n",
      "23\n",
      "The List is  [11, 2, 3, 113, 23]\n",
      "The largest no. in the list is : 113\n"
     ]
    }
   ],
   "source": [
    "Q4\n",
    "\n",
    "n = int(input(\"Enter the lenth of your list : \"))\n",
    "lst = []\n",
    "\n",
    "for i in range(n):\n",
    "    lst.append(int(input()))\n",
    "print(\"The List is \",lst)\n",
    "print(\"The largest no. in the list is :\",max(lst))"
   ]
  },
  {
   "cell_type": "code",
   "execution_count": 1,
   "id": "942d4d13",
   "metadata": {},
   "outputs": [
    {
     "name": "stdout",
     "output_type": "stream",
     "text": [
      "Enter the length of your list : 4\n",
      "11\n",
      "24\n",
      "22\n",
      "17\n",
      "The List is  [11, 24, 22, 17]\n",
      "The sorted list is  [11, 17, 22, 24]\n",
      "The second largest number in the list is  22\n"
     ]
    }
   ],
   "source": [
    "Q5\n",
    "\n",
    "n = int(input(\"Enter the length of your list : \"))\n",
    "lst = []\n",
    "\n",
    "for i in range(n):\n",
    "    lst.append(int(input()))\n",
    "print(\"The List is \",lst)\n",
    "lst.sort()\n",
    "print(\"The sorted list is \",lst)\n",
    "print(\"The second largest number in the list is \",lst[-2])"
   ]
  },
  {
   "cell_type": "code",
   "execution_count": 2,
   "id": "15ff10a7",
   "metadata": {},
   "outputs": [
    {
     "name": "stdout",
     "output_type": "stream",
     "text": [
      "Enter the length of your list : 6\n",
      "44\n",
      "33\n",
      "21\n",
      "4\n",
      "22\n",
      "13\n",
      "The List is  [44, 33, 21, 4, 22, 13]\n",
      "The sorted list is  [4, 13, 21, 22, 33, 44]\n",
      "Enter how many largest number you want from list:4\n",
      "4 largest elements from the list are : [21, 22, 33, 44]\n"
     ]
    }
   ],
   "source": [
    "Q6\n",
    "\n",
    "n = int(input(\"Enter the length of your list : \"))\n",
    "lst = []\n",
    "\n",
    "for i in range(n):\n",
    "    lst.append(int(input()))\n",
    "print(\"The List is \",lst)\n",
    "lst.sort()\n",
    "print(\"The sorted list is \",lst)\n",
    "nlar = int(input(\"Enter how many largest number you want from list:\"))\n",
    "\n",
    "if n < nlar :\n",
    "    print(\"enterted value is larger then the length of list\")\n",
    "else:\n",
    "    print(nlar,\"largest elements from the list are :\",lst[(n-nlar):])\n",
    "     "
   ]
  },
  {
   "cell_type": "code",
   "execution_count": 4,
   "id": "1218b52f",
   "metadata": {},
   "outputs": [
    {
     "name": "stdout",
     "output_type": "stream",
     "text": [
      "Enter the length of the list :5\n",
      "22\n",
      "21\n",
      "34\n",
      "3\n",
      "65\n",
      "The List is : [22, 21, 34, 3, 65]\n",
      "The even numbers in list [22, 34]\n"
     ]
    }
   ],
   "source": [
    "Q7\n",
    "\n",
    "lent =  int(input(\"Enter the length of the list :\"))\n",
    "lst = []\n",
    "for i in  range(lent):\n",
    "    lst.append(int(input()))\n",
    "print(\"The List is :\" ,lst)\n",
    "even = [i for i in lst if i%2==0 ]\n",
    "print(\"The even numbers in list\" , even)\n"
   ]
  },
  {
   "cell_type": "code",
   "execution_count": 6,
   "id": "66bccef4",
   "metadata": {},
   "outputs": [
    {
     "name": "stdout",
     "output_type": "stream",
     "text": [
      "Enter the length of the list :4\n",
      "22\n",
      "3\n",
      "32\n",
      "1\n",
      "The List is : [22, 3, 32, 1]\n",
      "The odd numbers in list [3, 1]\n"
     ]
    }
   ],
   "source": [
    "Q8\n",
    "\n",
    "lent =  int(input(\"Enter the length of the list :\"))\n",
    "lst = []\n",
    "for i in  range(lent):\n",
    "    lst.append(int(input()))\n",
    "print(\"The List is :\" ,lst)\n",
    "odd = [i for i in lst if i%2 != 0 ]\n",
    "print(\"The odd numbers in list\" , odd)"
   ]
  },
  {
   "cell_type": "code",
   "execution_count": 7,
   "id": "b7b7b253",
   "metadata": {},
   "outputs": [
    {
     "name": "stdout",
     "output_type": "stream",
     "text": [
      "The List : [55, [], 14, 75, [], 96, 80, [], 36]\n",
      "The list after removing empty lists : [55, 14, 75, 96, 80, 36]\n"
     ]
    }
   ],
   "source": [
    "Q9\n",
    "\n",
    "lst = [55,[],14,75,[],96,80,[],36]\n",
    "print(\"The List :\",lst)\n",
    "new_list = [item for item in lst if item != []]\n",
    "print(\"The list after removing empty lists :\" , new_list)\n"
   ]
  },
  {
   "cell_type": "code",
   "execution_count": 9,
   "id": "d762b0bf",
   "metadata": {},
   "outputs": [
    {
     "name": "stdout",
     "output_type": "stream",
     "text": [
      "Enter the length of your list : 4\n",
      "22\n",
      "16\n",
      "43\n",
      "87\n",
      "The List is  [22, 16, 43, 87]\n",
      "Cloning By list copying lst  [22, 16, 43, 87]\n"
     ]
    }
   ],
   "source": [
    "Q10\n",
    "\n",
    "n = int(input(\"Enter the length of your list : \"))\n",
    "lst = []\n",
    "\n",
    "for i in range(n):\n",
    "    lst.append(int(input()))\n",
    "print(\"The List is \",lst)\n",
    "\n",
    "lst_copy = lst.copy()\n",
    "print(\"Cloning By list copying lst \",lst_copy)"
   ]
  },
  {
   "cell_type": "code",
   "execution_count": 11,
   "id": "41d3ecbd",
   "metadata": {},
   "outputs": [
    {
     "name": "stdout",
     "output_type": "stream",
     "text": [
      "Enter the length of your list : 5\n",
      "1\n",
      "2\n",
      "1\n",
      "2\n",
      "3\n",
      "The List is  [1, 2, 1, 2, 3]\n",
      "Enter the element to find its occurance : 2\n",
      "2 has occured 2 times in the list \n"
     ]
    }
   ],
   "source": [
    "Q11\n",
    "\n",
    "lent = int(input(\"Enter the length of your list : \"))\n",
    "lst = []\n",
    "\n",
    "for i in range(lent):\n",
    "    lst.append(int(input()))\n",
    "print(\"The List is \",lst)\n",
    "ele= int(input(\"Enter the element to find its occurance : \"))\n",
    "print(ele,\"has occured {} times in the list \".format(lst.count(ele)))\n"
   ]
  }
 ],
 "metadata": {
  "kernelspec": {
   "display_name": "Python 3",
   "language": "python",
   "name": "python3"
  },
  "language_info": {
   "codemirror_mode": {
    "name": "ipython",
    "version": 3
   },
   "file_extension": ".py",
   "mimetype": "text/x-python",
   "name": "python",
   "nbconvert_exporter": "python",
   "pygments_lexer": "ipython3",
   "version": "3.9.0"
  }
 },
 "nbformat": 4,
 "nbformat_minor": 5
}
