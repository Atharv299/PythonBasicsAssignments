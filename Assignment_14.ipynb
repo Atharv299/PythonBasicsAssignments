{
 "cells": [
  {
   "cell_type": "code",
   "execution_count": null,
   "id": "ea6dff17",
   "metadata": {},
   "outputs": [],
   "source": [
    "Q1\n",
    "\n",
    "RGBA stands for red, green, blue, and alpha (transparency) in the color."
   ]
  },
  {
   "cell_type": "code",
   "execution_count": null,
   "id": "a3036ef8",
   "metadata": {},
   "outputs": [],
   "source": [
    "Q2\n",
    "\n",
    "from PIL import ImageColor\n",
    "ImageColor.getcolor('green', 'RGBA')"
   ]
  },
  {
   "cell_type": "code",
   "execution_count": null,
   "id": "7b73ba7c",
   "metadata": {},
   "outputs": [],
   "source": [
    "Q3\n",
    "\n",
    "A box tuple is a tuple value of four integers: the left edge x-coordinate, the top edge y-coordinate, the width, and the height, respectively."
   ]
  },
  {
   "cell_type": "code",
   "execution_count": null,
   "id": "db6c88b8",
   "metadata": {},
   "outputs": [],
   "source": [
    "Q4\n",
    "\n",
    "from PIL import Image\n",
    "myImg = Image.open('image1.jpg')\n",
    "w,h = myImg.size\n",
    "# w,h gives the width and height of image."
   ]
  },
  {
   "cell_type": "code",
   "execution_count": null,
   "id": "e94b542c",
   "metadata": {},
   "outputs": [],
   "source": [
    "Q5\n",
    "\n",
    "ImageObject.crop((0, 50, 50, 50))"
   ]
  },
  {
   "cell_type": "code",
   "execution_count": null,
   "id": "23ff2331",
   "metadata": {},
   "outputs": [],
   "source": [
    "Q6\n",
    "\n",
    "Call imageObj.save('new_filename.png') method of the Image object."
   ]
  },
  {
   "cell_type": "code",
   "execution_count": null,
   "id": "6bb93263",
   "metadata": {},
   "outputs": [],
   "source": [
    "Q7\n",
    "\n",
    "The ImageDraw module contains code to draw on images"
   ]
  },
  {
   "cell_type": "code",
   "execution_count": null,
   "id": "e1eec98a",
   "metadata": {},
   "outputs": [],
   "source": [
    "Q8\n",
    "\n",
    "ImageDraw objects have shape-drawing methods such as point(), line(), or rectangle(). They are returned by passing the Image object to the ImageDraw.Draw() function"
   ]
  }
 ],
 "metadata": {
  "kernelspec": {
   "display_name": "Python 3 (ipykernel)",
   "language": "python",
   "name": "python3"
  },
  "language_info": {
   "codemirror_mode": {
    "name": "ipython",
    "version": 3
   },
   "file_extension": ".py",
   "mimetype": "text/x-python",
   "name": "python",
   "nbconvert_exporter": "python",
   "pygments_lexer": "ipython3",
   "version": "3.9.13"
  }
 },
 "nbformat": 4,
 "nbformat_minor": 5
}
