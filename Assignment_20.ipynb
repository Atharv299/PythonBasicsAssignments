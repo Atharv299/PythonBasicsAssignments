{
 "cells": [
  {
   "cell_type": "code",
   "execution_count": 2,
   "id": "a07a4c2b",
   "metadata": {},
   "outputs": [
    {
     "data": {
      "text/plain": [
       "44"
      ]
     },
     "execution_count": 2,
     "metadata": {},
     "output_type": "execute_result"
    }
   ],
   "source": [
    "Q1\n",
    "\n",
    "test1 = 'This is a test of the emergency text system,'\n",
    "file = open('test.txt','w')\n",
    "file.write(test1)"
   ]
  },
  {
   "cell_type": "code",
   "execution_count": 6,
   "id": "ce09340a",
   "metadata": {},
   "outputs": [
    {
     "data": {
      "text/plain": [
       "'This is a test of the emergency text system,'"
      ]
     },
     "execution_count": 6,
     "metadata": {},
     "output_type": "execute_result"
    }
   ],
   "source": [
    "Q2\n",
    "\n",
    "file2 = open('test.txt','r')\n",
    "test2 = file2.readline()\n",
    "test2"
   ]
  },
  {
   "cell_type": "code",
   "execution_count": null,
   "id": "e3b2604a",
   "metadata": {},
   "outputs": [],
   "source": [
    "#both the test1 and test2 are same"
   ]
  },
  {
   "cell_type": "code",
   "execution_count": 1,
   "id": "1d4d60cc",
   "metadata": {},
   "outputs": [],
   "source": [
    "Q3\n",
    "\n",
    "import csv\n",
    "rows =[ ['title','author','year'],\n",
    "    ['The Weirdstone of Brisingamen','Alan Garner',1960],\n",
    "    ['Perdido Street Station','China Miéville',2000],\n",
    "    ['Thud!','Terry Pratchett',2005],\n",
    "    ['The Spellman Files','Lisa Lutz',2007],\n",
    "    ['Small Gods','Terry Pratchett',1992]]\n",
    "with open('books.csv','w',newline='') as file:\n",
    "    writer = csv.writer(file)\n",
    "    writer.writerows(rows)"
   ]
  },
  {
   "cell_type": "code",
   "execution_count": 3,
   "id": "98e98ff7",
   "metadata": {},
   "outputs": [],
   "source": [
    "Q4\n",
    "\n",
    "import sqlite3\n",
    "conn = sqlite3.connect('books.db')\n",
    "c = conn.cursor()\n",
    "\n",
    "c.execute('create table books(title varchar(20),author varchar(20), year int)')\n",
    "conn.commit()"
   ]
  },
  {
   "cell_type": "code",
   "execution_count": 4,
   "id": "e9374870",
   "metadata": {},
   "outputs": [
    {
     "data": {
      "text/plain": [
       "5"
      ]
     },
     "execution_count": 4,
     "metadata": {},
     "output_type": "execute_result"
    }
   ],
   "source": [
    "Q5\n",
    "\n",
    "import pandas as pd\n",
    "read_books = pd.read_csv('books.csv',encoding='unicode_escape')\n",
    "read_books.to_sql('books', conn, if_exists='append', index = False)\n",
    "     "
   ]
  },
  {
   "cell_type": "code",
   "execution_count": 5,
   "id": "b6e2dd7d",
   "metadata": {},
   "outputs": [
    {
     "name": "stdout",
     "output_type": "stream",
     "text": [
      "[('Perdido Street Station',), ('Small Gods',), ('The Spellman Files',), ('The Weirdstone of Brisingamen',), ('Thud!',)]\n"
     ]
    }
   ],
   "source": [
    "Q6\n",
    "\n",
    "c.execute('select title from books order by title asc')\n",
    "print(c.fetchall())"
   ]
  },
  {
   "cell_type": "code",
   "execution_count": 8,
   "id": "7678daef",
   "metadata": {},
   "outputs": [
    {
     "name": "stdout",
     "output_type": "stream",
     "text": [
      "[('The Weirdstone of Brisingamen', 'Alan Garner', 1960), ('Small Gods', 'Terry Pratchett', 1992), ('Perdido Street Station', 'China Miéville', 2000), ('Thud!', 'Terry Pratchett', 2005), ('The Spellman Files', 'Lisa Lutz', 2007)]\n"
     ]
    }
   ],
   "source": [
    "Q7\n",
    "\n",
    "c.execute('select * from books order by year')\n",
    "print(c.fetchall())"
   ]
  },
  {
   "cell_type": "code",
   "execution_count": 10,
   "id": "bfd8e6e0",
   "metadata": {},
   "outputs": [
    {
     "name": "stdout",
     "output_type": "stream",
     "text": [
      "('The Weirdstone of Brisingamen', 'Alan Garner', 1960)\n",
      "('Perdido Street Station', 'China Miéville', 2000)\n",
      "('Thud!', 'Terry Pratchett', 2005)\n",
      "('The Spellman Files', 'Lisa Lutz', 2007)\n",
      "('Small Gods', 'Terry Pratchett', 1992)\n"
     ]
    }
   ],
   "source": [
    "Q8\n",
    "\n",
    "import sqlalchemy\n",
    "engine = sqlalchemy.create_engine(\"sqlite:///books.db\")\n",
    "rows = engine.execute('select * from books')\n",
    "for i in rows:\n",
    "    print(i)"
   ]
  },
  {
   "cell_type": "code",
   "execution_count": 11,
   "id": "d1ec04bc",
   "metadata": {},
   "outputs": [
    {
     "name": "stdout",
     "output_type": "stream",
     "text": [
      "Collecting redis\n",
      "  Downloading redis-4.4.0-py3-none-any.whl (236 kB)\n",
      "     -------------------------------------- 236.4/236.4 kB 1.0 MB/s eta 0:00:00\n",
      "Collecting async-timeout>=4.0.2\n",
      "  Downloading async_timeout-4.0.2-py3-none-any.whl (5.8 kB)\n",
      "Installing collected packages: async-timeout, redis\n",
      "Successfully installed async-timeout-4.0.2 redis-4.4.0\n"
     ]
    }
   ],
   "source": [
    "Q9\n",
    "\n",
    "!pip install redis"
   ]
  },
  {
   "cell_type": "code",
   "execution_count": null,
   "id": "397d21e1",
   "metadata": {},
   "outputs": [],
   "source": [
    "import redis\n",
    "conn = redis.Redis()\n",
    "conn.delete('test')\n",
    "conn.hmset('test', {'count': 1, 'name': 'Fester Bestertester'})\n",
    "conn.hgetall('test')"
   ]
  },
  {
   "cell_type": "code",
   "execution_count": null,
   "id": "79b6cf3a",
   "metadata": {},
   "outputs": [],
   "source": [
    "Q10\n",
    "\n",
    "conn.hincrby('test','count', 3)"
   ]
  }
 ],
 "metadata": {
  "kernelspec": {
   "display_name": "Python 3 (ipykernel)",
   "language": "python",
   "name": "python3"
  },
  "language_info": {
   "codemirror_mode": {
    "name": "ipython",
    "version": 3
   },
   "file_extension": ".py",
   "mimetype": "text/x-python",
   "name": "python",
   "nbconvert_exporter": "python",
   "pygments_lexer": "ipython3",
   "version": "3.9.13"
  }
 },
 "nbformat": 4,
 "nbformat_minor": 5
}
