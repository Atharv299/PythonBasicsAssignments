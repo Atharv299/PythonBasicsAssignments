{
 "cells": [
  {
   "cell_type": "code",
   "execution_count": null,
   "id": "7f5a2711",
   "metadata": {},
   "outputs": [],
   "source": [
    "Q1\n",
    "\n",
    "Ans:\n",
    "iNeuron\n",
    "    \n",
    "Explaination: The global variables are accessible in side the functions in python and x is global variable here,\n",
    "so when we call the function it gets executed and prints the global variable X."
   ]
  },
  {
   "cell_type": "code",
   "execution_count": null,
   "id": "8b3bb77f",
   "metadata": {},
   "outputs": [],
   "source": [
    "Q2\n",
    "\n",
    "Ans:\n",
    "iNeuron\n",
    "    \n",
    "Explaination: X is a global variable which is accessible inside function fun() but inside this function the local variable X is created who's scope is limited to the body of the function.\n",
    "Hence after the function call fun() the program will print global variable X which gives the output as 'iNeuron'   "
   ]
  },
  {
   "cell_type": "code",
   "execution_count": null,
   "id": "9f024aeb",
   "metadata": {},
   "outputs": [],
   "source": [
    "Q3\n",
    "\n",
    "Ans:\n",
    "NI!\n",
    "iNeuron\n",
    "\n",
    "Explaination: X is a global variable which is accessible inside function fun() but inside this function the local variable X is created who's scope is limited to the body of the function.\n",
    "So the print(X) inside the function body will print local variable X='NI!' whenever we call the function.The print(X) after the function call will print the global variable X='iNeuron'."
   ]
  },
  {
   "cell_type": "code",
   "execution_count": null,
   "id": "e7905b57",
   "metadata": {},
   "outputs": [],
   "source": [
    "Q4\n",
    "\n",
    "Ans:\n",
    "NI!\n",
    "\n",
    "Explaination: Since the X inside function is made Global, value of global variable is changed inside the function. \n",
    "now the global variable X will have new value available outside the function also.\n"
   ]
  },
  {
   "cell_type": "code",
   "execution_count": null,
   "id": "d892efc0",
   "metadata": {},
   "outputs": [],
   "source": [
    "Q5\n",
    "\n",
    "Ans:\n",
    "NI!\n",
    "iNeuron\n",
    "\n",
    "Explaination:the nested() function will print 'NI!', since the local X inside the function func() will be prioritized over the global variable X\n",
    "After the function call the global X will be printed since the local X is no more existing."
   ]
  },
  {
   "cell_type": "code",
   "execution_count": null,
   "id": "a29edd68",
   "metadata": {},
   "outputs": [],
   "source": [
    "Q6\n",
    "\n",
    "Ans:\n",
    "spam\n",
    "\n",
    "Explaination: Nonlocal variables are used in nested functions whose local scope is not defined. \n",
    "This means that the variable can be neither in the local nor the global scope. it print the updated value from nested function"
   ]
  }
 ],
 "metadata": {
  "kernelspec": {
   "display_name": "Python 3 (ipykernel)",
   "language": "python",
   "name": "python3"
  },
  "language_info": {
   "codemirror_mode": {
    "name": "ipython",
    "version": 3
   },
   "file_extension": ".py",
   "mimetype": "text/x-python",
   "name": "python",
   "nbconvert_exporter": "python",
   "pygments_lexer": "ipython3",
   "version": "3.9.13"
  }
 },
 "nbformat": 4,
 "nbformat_minor": 5
}
