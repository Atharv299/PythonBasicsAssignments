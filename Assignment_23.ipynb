{
 "cells": [
  {
   "cell_type": "code",
   "execution_count": null,
   "id": "683a10cd",
   "metadata": {},
   "outputs": [],
   "source": [
    "Q1\n",
    "\n",
    "Ans:\n",
    "1 2 8\n",
    "\n",
    "Explaination: Here the function defination takes 3 arguments and while calling the function we passed only 2\n",
    "So the 3rd argument will be taken as default argument hence we will get the above output    "
   ]
  },
  {
   "cell_type": "code",
   "execution_count": null,
   "id": "363ea4e8",
   "metadata": {},
   "outputs": [],
   "source": [
    "Q2\n",
    "\n",
    "Ans:\n",
    "1 2 3\n",
    "\n",
    "Explaination: The the 1st argument passed to the function is assigned to 'a' as it is positional argument.\n",
    "While the second and third arguments 'c' and 'b' are keyword arguments and they can be passed in any order.\n"
   ]
  },
  {
   "cell_type": "code",
   "execution_count": null,
   "id": "9bb48e2e",
   "metadata": {},
   "outputs": [],
   "source": [
    "Q3\n",
    "\n",
    "Ans:\n",
    "1 (2, 3)\n",
    "\n",
    "Explaination: '*' is the unpacking operator and are operators that unpack the values from iterable objects in Python. The single \n",
    "asterisk operator * can be used on any iterable that Python provides, while the double asterisk operator ** can only \n",
    "be used on dictionaries. In the example the value *(5,6) will be unpacked and will be assigned to b and c and passed \n",
    "as arguments, d =5 will taken by defaults are keyword arguments.  "
   ]
  },
  {
   "cell_type": "code",
   "execution_count": null,
   "id": "dc7446a5",
   "metadata": {},
   "outputs": [],
   "source": [
    "Q4\n",
    "\n",
    "Ans:\n",
    "1 {'c': 3, 'b': 2}\n",
    "\n",
    "Explaination: The function takes 'a' as a first keyword argument and '**Kargs' as a variable number of keyword arguments.\n",
    "hence after the first keyword arguments any number of keyword arguments passed to the function are stored in a dictionary in the form of key-value pair."
   ]
  },
  {
   "cell_type": "code",
   "execution_count": null,
   "id": "ad9dbe1d",
   "metadata": {},
   "outputs": [],
   "source": [
    "Q5\n",
    "\n",
    "Ans:\n",
    "1 5 6 5\n",
    "\n",
    "Explaination: In the function call 1st argument passed is a positional argument 'a' after that a tuple of arguments passed take the values of 'b' and 'c' in the function definition\n",
    "'d' is assigned to the default values as no value is passed for 'd' also their is no value in the tuple for 'd'"
   ]
  },
  {
   "cell_type": "code",
   "execution_count": null,
   "id": "513cedca",
   "metadata": {},
   "outputs": [],
   "source": [
    "Q6\n",
    "\n",
    "Ans:\n",
    "1 ['x'] {'a':'y'}\n",
    "\n",
    "Explaination: Everything is passed as an object reference to the function.\n",
    "int is immutable so the value of variable 'l' did not get modified inside the function but the lists and dictionaries are mutable and hence the value of variable 'm' and 'n' get modified inside the function.   "
   ]
  }
 ],
 "metadata": {
  "kernelspec": {
   "display_name": "Python 3",
   "language": "python",
   "name": "python3"
  },
  "language_info": {
   "codemirror_mode": {
    "name": "ipython",
    "version": 3
   },
   "file_extension": ".py",
   "mimetype": "text/x-python",
   "name": "python",
   "nbconvert_exporter": "python",
   "pygments_lexer": "ipython3",
   "version": "3.9.0"
  }
 },
 "nbformat": 4,
 "nbformat_minor": 5
}
