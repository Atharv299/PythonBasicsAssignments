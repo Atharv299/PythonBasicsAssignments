{
 "cells": [
  {
   "cell_type": "code",
   "execution_count": null,
   "id": "91a77261",
   "metadata": {},
   "outputs": [],
   "source": [
    "Q1\n",
    "\n",
    "1)An Excel not only stores data but can also do operations on the data\n",
    "2)Files saved in excel cannot be opened or edited by text editors\n",
    "3)Apart from text, data can also be stored in form of charts and graphs\n",
    "4)Excel can connect to external data sources to fetch data. You can use custom add-in in Excel to increase its functionality.\n",
    "5)large files user is much easier in Excel for the end user. Also, you can have additional functions like selecting individual cells for import, convert dates and time automatically, reading formulas and their results, filters, sorting, etc\n",
    "6)Apart from text, data can also be stored in form of charts and graphs\n",
    "7)Excel can connect to external data sources to fetch data. You can use custom add-in in Excel to increase its functionality.\n"
   ]
  },
  {
   "cell_type": "code",
   "execution_count": null,
   "id": "43dd56c9",
   "metadata": {},
   "outputs": [],
   "source": [
    "Q2\n",
    "\n",
    "we pass a File object, obtained from a call to open() to the csv.reader() and csv.writer()"
   ]
  },
  {
   "cell_type": "code",
   "execution_count": null,
   "id": "5df00684",
   "metadata": {},
   "outputs": [],
   "source": [
    "Q3\n",
    "\n",
    "File objects need to be opened in read-binary ('rb') for Reader objects and write-binary ('wb') for Writer objects"
   ]
  },
  {
   "cell_type": "code",
   "execution_count": null,
   "id": "77140405",
   "metadata": {},
   "outputs": [],
   "source": [
    "Q4\n",
    "\n",
    "The writerow() method is used take list arguments and writes it to a csv file."
   ]
  },
  {
   "cell_type": "code",
   "execution_count": null,
   "id": "f5f59c57",
   "metadata": {},
   "outputs": [],
   "source": [
    "Q5\n",
    "\n",
    "The delimiter argument changes the string used to separate cells in a row.\n",
    "The line terminator argument changes the string used to separate rows."
   ]
  },
  {
   "cell_type": "code",
   "execution_count": null,
   "id": "67d20976",
   "metadata": {},
   "outputs": [],
   "source": [
    "Q6\n",
    "\n",
    "json.loads()"
   ]
  },
  {
   "cell_type": "code",
   "execution_count": null,
   "id": "15c6d9ec",
   "metadata": {},
   "outputs": [],
   "source": [
    "Q7\n",
    "\n",
    "json.dumps()"
   ]
  }
 ],
 "metadata": {
  "kernelspec": {
   "display_name": "Python 3 (ipykernel)",
   "language": "python",
   "name": "python3"
  },
  "language_info": {
   "codemirror_mode": {
    "name": "ipython",
    "version": 3
   },
   "file_extension": ".py",
   "mimetype": "text/x-python",
   "name": "python",
   "nbconvert_exporter": "python",
   "pygments_lexer": "ipython3",
   "version": "3.9.13"
  }
 },
 "nbformat": 4,
 "nbformat_minor": 5
}
