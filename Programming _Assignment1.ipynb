{
 "cells": [
  {
   "cell_type": "code",
   "execution_count": 1,
   "id": "9bba0e3f",
   "metadata": {},
   "outputs": [
    {
     "name": "stdout",
     "output_type": "stream",
     "text": [
      "Hello Python\n"
     ]
    }
   ],
   "source": [
    "Q1\n",
    "\n",
    "print('Hello Python')"
   ]
  },
  {
   "cell_type": "code",
   "execution_count": 2,
   "id": "22f9d131",
   "metadata": {},
   "outputs": [
    {
     "name": "stdout",
     "output_type": "stream",
     "text": [
      "20\n",
      "10\n",
      "Sum = 30\n",
      "Division = 2.0\n"
     ]
    }
   ],
   "source": [
    "Q2\n",
    "\n",
    "a=int(input())\n",
    "b=int(input())\n",
    "\n",
    "#addition\n",
    "Sum=a+b\n",
    "print(\"Sum =\",Sum)\n",
    "\n",
    "#division\n",
    "div=a/b\n",
    "print(\"Division =\",div)"
   ]
  },
  {
   "cell_type": "code",
   "execution_count": 4,
   "id": "8bacdfc3",
   "metadata": {},
   "outputs": [
    {
     "name": "stdout",
     "output_type": "stream",
     "text": [
      "Enter height of triangle\n",
      "50\n",
      "Enter base of triangle\n",
      "20\n",
      "Area = 500.0\n"
     ]
    }
   ],
   "source": [
    "Q3\n",
    "\n",
    "print(\"Enter height of triangle\")\n",
    "h=int(input())\n",
    "print(\"Enter base of triangle\")\n",
    "b=int(input())\n",
    "print(\"Area =\",0.5*h*b)"
   ]
  },
  {
   "cell_type": "code",
   "execution_count": 1,
   "id": "beb02d2a",
   "metadata": {},
   "outputs": [
    {
     "name": "stdout",
     "output_type": "stream",
     "text": [
      "Enter two values to swap\n",
      "10\n",
      "20\n",
      "Before swapping\n",
      "a =10, b =20\n",
      "After swapping\n",
      "a =20, b =10\n"
     ]
    }
   ],
   "source": [
    "Q4\n",
    "\n",
    "print(\"Enter two values to swap\")\n",
    "a=int(input())\n",
    "b=int(input())\n",
    "print(\"Before swapping\")\n",
    "print(\"a =%i, b =%i\"%(a,b))\n",
    "temp=a\n",
    "a=b\n",
    "b=temp\n",
    "print(\"After swapping\")\n",
    "print(\"a =%i, b =%i\"%(a,b))"
   ]
  },
  {
   "cell_type": "code",
   "execution_count": 2,
   "id": "0cde3084",
   "metadata": {},
   "outputs": [
    {
     "name": "stdout",
     "output_type": "stream",
     "text": [
      "0.7625466390354211\n"
     ]
    }
   ],
   "source": [
    "Q5\n",
    "\n",
    "import random\n",
    "print(random.random())"
   ]
  }
 ],
 "metadata": {
  "kernelspec": {
   "display_name": "Python 3 (ipykernel)",
   "language": "python",
   "name": "python3"
  },
  "language_info": {
   "codemirror_mode": {
    "name": "ipython",
    "version": 3
   },
   "file_extension": ".py",
   "mimetype": "text/x-python",
   "name": "python",
   "nbconvert_exporter": "python",
   "pygments_lexer": "ipython3",
   "version": "3.9.13"
  }
 },
 "nbformat": 4,
 "nbformat_minor": 5
}
