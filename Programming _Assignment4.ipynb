{
 "cells": [
  {
   "cell_type": "code",
   "execution_count": 2,
   "id": "69e7aa25",
   "metadata": {},
   "outputs": [],
   "source": [
    "Q1\n",
    "\n",
    "def fact(n):\n",
    "    if n<=1:\n",
    "        return 1\n",
    "    else:\n",
    "        return n*fact(n-1)"
   ]
  },
  {
   "cell_type": "code",
   "execution_count": 7,
   "id": "e151a965",
   "metadata": {},
   "outputs": [
    {
     "name": "stdout",
     "output_type": "stream",
     "text": [
      "Enter a number 5\n",
      "5 Factorial is 120\n"
     ]
    }
   ],
   "source": [
    "f=int(input(\"Enter a number \"))\n",
    "print(\"%i Factorial is %i\"%(f,fact(f)))"
   ]
  },
  {
   "cell_type": "code",
   "execution_count": 9,
   "id": "c87f1286",
   "metadata": {},
   "outputs": [
    {
     "name": "stdout",
     "output_type": "stream",
     "text": [
      "Enter a number 5\n",
      "Multiplication Table of 5\n",
      "5\n",
      "10\n",
      "15\n",
      "20\n",
      "25\n",
      "30\n",
      "35\n",
      "40\n",
      "45\n",
      "50\n"
     ]
    }
   ],
   "source": [
    "Q2\n",
    "\n",
    "a=int(input(\"Enter a number \"))\n",
    "print(\"Multiplication Table of %i\"%a)\n",
    "for i in range(1,10+1):\n",
    "    print(a*i)"
   ]
  },
  {
   "cell_type": "code",
   "execution_count": 25,
   "id": "fc4d5aff",
   "metadata": {},
   "outputs": [],
   "source": [
    "Q3\n",
    "\n",
    "def fibo(n):\n",
    "    a=b=1\n",
    "    print(1,1,end=\" \")\n",
    "    for i in range(n-2):\n",
    "        a,b=b,a+b\n",
    "        print(b,end=\" \")"
   ]
  },
  {
   "cell_type": "code",
   "execution_count": 23,
   "id": "6a4fc0cb",
   "metadata": {},
   "outputs": [
    {
     "name": "stdout",
     "output_type": "stream",
     "text": [
      "Enter the number of elements in fibonacci series 10\n",
      "1 1 2 3 5 8 13 21 34 55 "
     ]
    }
   ],
   "source": [
    "a=int(input(\"Enter the number of elements in fibonacci series \"))\n",
    "fibo(a)"
   ]
  },
  {
   "cell_type": "code",
   "execution_count": 27,
   "id": "fcba164e",
   "metadata": {},
   "outputs": [
    {
     "name": "stdout",
     "output_type": "stream",
     "text": [
      "Enter the number 153\n",
      "The given number 153 is armstrong number\n"
     ]
    }
   ],
   "source": [
    "Q4\n",
    "\n",
    "n=int(input(\"Enter the number \")) \n",
    "s = n \n",
    "b = len(str(n))\n",
    "sum1 = 0\n",
    "while n != 0:\n",
    "    r = n % 10\n",
    "    sum1 = sum1+(r**b)\n",
    "    n = n//10\n",
    "if s == sum1:\n",
    "    print(\"The given number\", s, \"is armstrong number\")\n",
    "else:\n",
    "    print(\"The given number\", s, \"is not armstrong number\")"
   ]
  },
  {
   "cell_type": "code",
   "execution_count": 37,
   "id": "bb8c8b65",
   "metadata": {},
   "outputs": [
    {
     "name": "stdout",
     "output_type": "stream",
     "text": [
      "Enter the interval 100 1000\n",
      "Followig are the armstrong numbers in given range\n",
      "153 370 371 407 "
     ]
    }
   ],
   "source": [
    "Q5\n",
    "\n",
    "lower,upper = [int(x) for x in input(\"Enter the interval \").split(\" \")]\n",
    "print('Followig are the armstrong numbers in given range')\n",
    "for num in range(lower, upper + 1):\n",
    "    order = len(str(num))\n",
    "    sum = 0\n",
    "\n",
    "    temp = num\n",
    "    while temp > 0:\n",
    "        digit = temp % 10\n",
    "        sum += digit ** order\n",
    "        temp //= 10\n",
    "\n",
    "    if num == sum:\n",
    "        print(num,end=\" \")\n",
    " "
   ]
  },
  {
   "cell_type": "code",
   "execution_count": 39,
   "id": "1aae2b17",
   "metadata": {},
   "outputs": [
    {
     "name": "stdout",
     "output_type": "stream",
     "text": [
      "Enter the number 5\n",
      "The sum of first 5 natural numbers is 15\n"
     ]
    }
   ],
   "source": [
    "Q6\n",
    "\n",
    "n=int(input(\"Enter the number \"))\n",
    "print(\"The sum of first %i natural numbers is %i\"%(n,int(n*(n+1)/2)))"
   ]
  },
  {
   "cell_type": "code",
   "execution_count": null,
   "id": "c054541f",
   "metadata": {},
   "outputs": [],
   "source": []
  }
 ],
 "metadata": {
  "kernelspec": {
   "display_name": "Python 3 (ipykernel)",
   "language": "python",
   "name": "python3"
  },
  "language_info": {
   "codemirror_mode": {
    "name": "ipython",
    "version": 3
   },
   "file_extension": ".py",
   "mimetype": "text/x-python",
   "name": "python",
   "nbconvert_exporter": "python",
   "pygments_lexer": "ipython3",
   "version": "3.9.13"
  }
 },
 "nbformat": 4,
 "nbformat_minor": 5
}
