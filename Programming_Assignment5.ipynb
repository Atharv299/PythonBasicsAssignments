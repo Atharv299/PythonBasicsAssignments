{
 "cells": [
  {
   "cell_type": "code",
   "execution_count": 1,
   "id": "4111e537",
   "metadata": {},
   "outputs": [
    {
     "name": "stdout",
     "output_type": "stream",
     "text": [
      "Enter two numbers 20 19\n",
      "The L.C.M. is 380\n"
     ]
    }
   ],
   "source": [
    "Q1\n",
    "\n",
    "def lcm(x, y):\n",
    "    if x > y:\n",
    "        greater = x\n",
    "    else:\n",
    "        greater = y\n",
    "    while(True):\n",
    "        if((greater % x == 0) and (greater % y == 0)):\n",
    "            lcm = greater\n",
    "            break\n",
    "        greater += 1\n",
    "    return lcm\n",
    "\n",
    "num1,num2 = [int(x) for x in input(\"Enter two numbers \").split(\" \")]\n",
    "print(\"The L.C.M. is\",lcm(num1, num2))"
   ]
  },
  {
   "cell_type": "code",
   "execution_count": 2,
   "id": "c180e01e",
   "metadata": {},
   "outputs": [
    {
     "name": "stdout",
     "output_type": "stream",
     "text": [
      "Enter two numbers 20 10\n",
      "The H.C.F. is 10\n"
     ]
    }
   ],
   "source": [
    "Q2\n",
    "\n",
    "def hcf(a, b):\n",
    "    if(b == 0):\n",
    "        return a\n",
    "    else:\n",
    "        return hcf(b, a % b)\n",
    "\n",
    "num1,num2 = [int(x) for x in input(\"Enter two numbers \").split(\" \")]\n",
    "print(\"The H.C.F. is\",hcf(num1, num2))"
   ]
  },
  {
   "cell_type": "code",
   "execution_count": 3,
   "id": "99b57eb7",
   "metadata": {},
   "outputs": [
    {
     "name": "stdout",
     "output_type": "stream",
     "text": [
      "Enter a number 10\n",
      "The decimal value of 10 is:\n",
      "0b1010 in binary.\n",
      "0o12 in octal.\n",
      "0xa in hexadecimal.\n"
     ]
    }
   ],
   "source": [
    "Q3\n",
    "\n",
    "dec=int(input(\"Enter a number \"))\n",
    "print(\"The decimal value of\", dec, \"is:\")\n",
    "print(bin(dec), \"in binary.\")\n",
    "print(oct(dec), \"in octal.\")\n",
    "print(hex(dec), \"in hexadecimal.\")"
   ]
  },
  {
   "cell_type": "code",
   "execution_count": 8,
   "id": "2ee9f443",
   "metadata": {},
   "outputs": [
    {
     "name": "stdout",
     "output_type": "stream",
     "text": [
      "Enter a character p\n",
      "ASCII of p is 112\n"
     ]
    }
   ],
   "source": [
    "Q4\n",
    "\n",
    "dec=(input(\"Enter a character \"))\n",
    "print(\"ASCII of\", dec, \"is\",ord(dec))\n"
   ]
  },
  {
   "cell_type": "code",
   "execution_count": 9,
   "id": "81eb68f7",
   "metadata": {},
   "outputs": [
    {
     "name": "stdout",
     "output_type": "stream",
     "text": [
      "Enter two numbers 21 7\n",
      "Addition of 21 and 7 is 28\n",
      "Subtraction of 21 and 7 is 14\n",
      "Multiplication of 21 and 7 is 147\n",
      "Division of 21 and 7 is 3.0\n"
     ]
    }
   ],
   "source": [
    "Q5\n",
    "\n",
    "def calculator(a,b):\n",
    "    print(\"Addition of\",a,\"and\",b,\"is\",a+b)\n",
    "    print(\"Subtraction of\",a,\"and\",b,\"is\",a-b)\n",
    "    print(\"Multiplication of\",a,\"and\",b,\"is\",a*b)\n",
    "    print(\"Division of\",a,\"and\",b,\"is\",a/b)\n",
    "\n",
    "num1,num2 = [int(x) for x in input(\"Enter two numbers \").split(\" \")]\n",
    "calculator(num1,num2)"
   ]
  }
 ],
 "metadata": {
  "kernelspec": {
   "display_name": "Python 3",
   "language": "python",
   "name": "python3"
  },
  "language_info": {
   "codemirror_mode": {
    "name": "ipython",
    "version": 3
   },
   "file_extension": ".py",
   "mimetype": "text/x-python",
   "name": "python",
   "nbconvert_exporter": "python",
   "pygments_lexer": "ipython3",
   "version": "3.9.0"
  }
 },
 "nbformat": 4,
 "nbformat_minor": 5
}
