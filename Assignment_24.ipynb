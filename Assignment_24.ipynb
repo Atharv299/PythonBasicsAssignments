{
 "cells": [
  {
   "cell_type": "code",
   "execution_count": null,
   "id": "06c4cfe5",
   "metadata": {},
   "outputs": [],
   "source": [
    "Q1\n",
    "\n",
    "Keyword def that marks the start of the function header. A function name to uniquely identify the function.\n",
    "Function naming follows the same rules of writing identifiers in Python.\n",
    "Lambdas are one-line methods without a name or we can say anonymous Func\n",
    "They work practically the same as any other method in Python Lambdas differ from normal Python methods because they can have only one expression, can't contain any statements."
   ]
  },
  {
   "cell_type": "code",
   "execution_count": null,
   "id": "b3518108",
   "metadata": {},
   "outputs": [],
   "source": [
    "Q2\n",
    "\n",
    "They are annonymous, takes fewer lines of code, thus execute comparatively faster Many times.\n",
    "lambda functions make code much more readable by avoiding the logical jumps caused by function calls"
   ]
  },
  {
   "cell_type": "code",
   "execution_count": null,
   "id": "0c7a52dc",
   "metadata": {},
   "outputs": [],
   "source": [
    "Q3\n",
    "\n",
    "map():\n",
    "The map() function iterates through all items in the given iterable and executes the function we passed as an argument on each of them. \n",
    "Syntax : map(function, iterable(s))\n",
    "\n",
    "filter():\n",
    "filter() forms a new list that contains only elements that satisfy a certain condition, i.e. the function we passed returns True \n",
    "Syntax : filter(function, iterable(s))\n",
    "\n",
    "reduce():\n",
    "reduce() works by calling the function we passed for the first two items in the sequence. The result returned by the function is used in another call to function alongside with the next, element \n",
    "Syntax : reduce(function, sequence[, initial])"
   ]
  },
  {
   "cell_type": "code",
   "execution_count": null,
   "id": "567c5cb4",
   "metadata": {},
   "outputs": [],
   "source": [
    "Q4\n",
    "\n",
    "Function annotation is the standard way to access the metadata with the arguments and the return value of the function.\n",
    "They do not have any significance or meaning associated with them until accessed by some third-party libraries. They are used to type check the functions by declaring the type of the parameters and the return value for the functions. The string-based annotations help us to improve the help messages.\n",
    "\n",
    "Syntax :\n",
    "\n",
    "def func(a: 'int') -> 'int':\n",
    "    pass\n",
    "\n",
    "here a is annotation to function parameters and 'int' is annotation to return type."
   ]
  },
  {
   "cell_type": "code",
   "execution_count": null,
   "id": "b963dfc0",
   "metadata": {},
   "outputs": [],
   "source": [
    "Q5\n",
    "\n",
    "A recursive function is a function that calls itself during its execution.\n",
    "This means that the function will continue to call itself and repeat its behavior until some condition is met to return a result"
   ]
  },
  {
   "cell_type": "code",
   "execution_count": 1,
   "id": "f6b129b4",
   "metadata": {},
   "outputs": [
    {
     "data": {
      "text/plain": [
       "6"
      ]
     },
     "execution_count": 1,
     "metadata": {},
     "output_type": "execute_result"
    }
   ],
   "source": [
    "# eg\n",
    "def fact(x):\n",
    "    if x == 1 :\n",
    "        return 1\n",
    "    else :\n",
    "        return x * fact(x-1) # recurtion\n",
    "    \n",
    "fact(3)"
   ]
  },
  {
   "cell_type": "code",
   "execution_count": null,
   "id": "ebe3a3d8",
   "metadata": {},
   "outputs": [],
   "source": [
    "Q6\n",
    "\n",
    "1)Use 4-space indentation and no tabs.\n",
    "2)Use docstrings\n",
    "3)Wrap linethat they don’t exceed 79 characters\n",
    "4)Use of regular and updated comments are valuable to both the coders and users\n",
    "5)Use of trailing commas : in case of tuple -> ('good',)\n",
    "6)Use Python’s default UTF-8 or ASCII encodings and not any fancy encodings\n",
    "7)Naming Conventions"
   ]
  },
  {
   "cell_type": "code",
   "execution_count": null,
   "id": "d53d7e7f",
   "metadata": {},
   "outputs": [],
   "source": [
    "Q7\n",
    "\n",
    "1)Function can return single value\n",
    "2)Can return multiple values, tuple\n",
    "3)can return list,dictionary\n",
    "4)can return function object\n",
    "5)can return class object"
   ]
  }
 ],
 "metadata": {
  "kernelspec": {
   "display_name": "Python 3",
   "language": "python",
   "name": "python3"
  },
  "language_info": {
   "codemirror_mode": {
    "name": "ipython",
    "version": 3
   },
   "file_extension": ".py",
   "mimetype": "text/x-python",
   "name": "python",
   "nbconvert_exporter": "python",
   "pygments_lexer": "ipython3",
   "version": "3.9.0"
  }
 },
 "nbformat": 4,
 "nbformat_minor": 5
}
