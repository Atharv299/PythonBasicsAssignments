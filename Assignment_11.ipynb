{
 "cells": [
  {
   "cell_type": "code",
   "execution_count": null,
   "id": "f698a8e2",
   "metadata": {},
   "outputs": [],
   "source": [
    "Q1\n",
    "\n",
    "assert(spam >= 10, 'The spam variable is less than 10.')"
   ]
  },
  {
   "cell_type": "code",
   "execution_count": null,
   "id": "16012686",
   "metadata": {},
   "outputs": [],
   "source": [
    "Q2\n",
    "\n",
    "assert(eggs.lower() != bacon.lower(), 'The eggs and bacon variables are the same!') "
   ]
  },
  {
   "cell_type": "code",
   "execution_count": null,
   "id": "e1432c89",
   "metadata": {},
   "outputs": [],
   "source": [
    "Q3\n",
    "\n",
    "assert(False, 'This assertion always triggers.')"
   ]
  },
  {
   "cell_type": "code",
   "execution_count": null,
   "id": "3c942728",
   "metadata": {},
   "outputs": [],
   "source": [
    "Q4\n",
    "\n",
    "import logging \n",
    "logging.basicConfig(level=logging.DEBUG, format=' %(asctime)s - %(levelname)s - %(message)s')"
   ]
  },
  {
   "cell_type": "code",
   "execution_count": null,
   "id": "592f4350",
   "metadata": {},
   "outputs": [],
   "source": [
    "Q5\n",
    "\n",
    "import logging \n",
    "logging.basicConfig(filename='programLog.txt', level=logging.DEBUG, format=' %(asctime)s - %(levelname)s - %(message)s')"
   ]
  },
  {
   "cell_type": "code",
   "execution_count": null,
   "id": "7cdcbfaa",
   "metadata": {},
   "outputs": [],
   "source": [
    "Q6\n",
    "\n",
    "DEBUG, INFO, WARNING, ERROR, and CRITICAL."
   ]
  },
  {
   "cell_type": "code",
   "execution_count": null,
   "id": "c6f81d28",
   "metadata": {},
   "outputs": [],
   "source": [
    "Q7\n",
    "\n",
    "logging.disable(logging.CRITICAL)"
   ]
  },
  {
   "cell_type": "code",
   "execution_count": null,
   "id": "c4e616a6",
   "metadata": {},
   "outputs": [],
   "source": [
    "Q8\n",
    "\n",
    "1)You can disable logging messages without removing the logging function calls. \n",
    "2)You can selectively disable lower-level logging messages. \n",
    "3)You can create logging messages. \n",
    "4)Logging messages provides a timestamp."
   ]
  },
  {
   "cell_type": "code",
   "execution_count": null,
   "id": "8a517bb8",
   "metadata": {},
   "outputs": [],
   "source": [
    "Q9\n",
    "\n",
    "The Step in button will move the debugger into a function call. \n",
    "The Step Over button will quickly execute the function call without stepping into it. \n",
    "The Step Out button will quickly execute the rest of the code until it steps out of the function it currently is in."
   ]
  },
  {
   "cell_type": "code",
   "execution_count": null,
   "id": "3e125554",
   "metadata": {},
   "outputs": [],
   "source": [
    "Q10\n",
    "\n",
    "The debugger will stop when it has reached the end of the program or a line with a breakpoint."
   ]
  },
  {
   "cell_type": "code",
   "execution_count": null,
   "id": "67b68ae5",
   "metadata": {},
   "outputs": [],
   "source": [
    "Q11\n",
    "\n",
    "breakpoint is a setting on a line of code that causes the debugger to pause when the program execution reaches the line"
   ]
  }
 ],
 "metadata": {
  "kernelspec": {
   "display_name": "Python 3 (ipykernel)",
   "language": "python",
   "name": "python3"
  },
  "language_info": {
   "codemirror_mode": {
    "name": "ipython",
    "version": 3
   },
   "file_extension": ".py",
   "mimetype": "text/x-python",
   "name": "python",
   "nbconvert_exporter": "python",
   "pygments_lexer": "ipython3",
   "version": "3.9.13"
  }
 },
 "nbformat": 4,
 "nbformat_minor": 5
}
