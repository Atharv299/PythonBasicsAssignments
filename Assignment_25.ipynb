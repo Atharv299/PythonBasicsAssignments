{
 "cells": [
  {
   "cell_type": "code",
   "execution_count": null,
   "id": "2fbfb481",
   "metadata": {},
   "outputs": [],
   "source": [
    "Q1\n",
    "\n",
    "List Comprehension with square brackets produces list.\n",
    "List Comprehension with parentheses creates generators."
   ]
  },
  {
   "cell_type": "code",
   "execution_count": null,
   "id": "436f4478",
   "metadata": {},
   "outputs": [],
   "source": [
    "Q2\n",
    "\n",
    "Iterator: An iterator is an object which contains a countable number of values and it is used to iterate over iterable objects like list, tuples etc\n",
    "Using an iterator- iter() keyword is used to create an iterator containing an iterable object. next() keyword is used to call the next element in the iterable object\n",
    "\n",
    "Generator: It is another way of creating iterators in a simple way where it uses the keyword “yield” instead of returning it in a defined function Generators are implemented using a function, the yield statement returns the data without affecting or exiting the function.\n",
    "By using next() function we can iterate the output of generator function.    "
   ]
  },
  {
   "cell_type": "code",
   "execution_count": null,
   "id": "16e391e4",
   "metadata": {},
   "outputs": [],
   "source": [
    "Q3\n",
    "\n",
    "If a function contains at least one yield statement, it becomes a generator function. Both yield and return will return some value from a function."
   ]
  },
  {
   "cell_type": "code",
   "execution_count": null,
   "id": "8cb0ba44",
   "metadata": {},
   "outputs": [],
   "source": [
    "Q4\n",
    "\n",
    "A yield statement looks much like a return statement, except that instead of stopping execution of the function and\n",
    "returning, yield instead provides a value to the code looping over the generator and pauses execution of the generator function."
   ]
  },
  {
   "cell_type": "code",
   "execution_count": null,
   "id": "e1ced383",
   "metadata": {},
   "outputs": [],
   "source": [
    "Q5\n",
    "\n",
    "Map function:\n",
    "1) Suppose we have a function and we want to compute this function for different values in a single line of code . \n",
    "This is where map() function plays its role. map() function returns a map object(which is an iterator) of the results after applying the given function to each item of a given iterable (list, tuple etc.)\n",
    "2) If we already have a function defined, it is often good to use map For example, map(sum, myLists) is more neat than [sum(x) for x in myLists].\n",
    "\n",
    "List Comprehension:\n",
    "1) List Comprehension is a substitute for the lambda function, map(), filter() and reduce().\n",
    "2) List comprehension is more concise and easier to read as compared to map.\n",
    "3) List comprehension allows filtering. In map, we have no such facility."
   ]
  }
 ],
 "metadata": {
  "kernelspec": {
   "display_name": "Python 3 (ipykernel)",
   "language": "python",
   "name": "python3"
  },
  "language_info": {
   "codemirror_mode": {
    "name": "ipython",
    "version": 3
   },
   "file_extension": ".py",
   "mimetype": "text/x-python",
   "name": "python",
   "nbconvert_exporter": "python",
   "pygments_lexer": "ipython3",
   "version": "3.9.13"
  }
 },
 "nbformat": 4,
 "nbformat_minor": 5
}
