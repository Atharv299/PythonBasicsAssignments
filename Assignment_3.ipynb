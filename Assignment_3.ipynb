{
 "cells": [
  {
   "cell_type": "code",
   "execution_count": null,
   "id": "994f7b49",
   "metadata": {},
   "outputs": [],
   "source": [
    "Q1\n",
    "\n",
    "Advantages of writing functions:\n",
    "1) Functions allows programmer to avoid writing repetitive lines of code for the same purpose by including that code inside a function definition which can be called anytime whenever programmer needed.\n",
    "2) Functions allows to divide the problem into small parts by forming a function.\n",
    "3) Functions reduces the space and time consumed to perform a certain task multiple times.\n",
    "4) Functions improve reusability and readability of program for large programs."
   ]
  },
  {
   "cell_type": "code",
   "execution_count": null,
   "id": "46c396a7",
   "metadata": {},
   "outputs": [],
   "source": [
    "Q2\n",
    "\n",
    "Whenever the function is called the function body is executed."
   ]
  },
  {
   "cell_type": "code",
   "execution_count": null,
   "id": "d021cf5d",
   "metadata": {},
   "outputs": [],
   "source": [
    "Q3\n",
    "\n",
    "Following is a syntax for function definition:\n",
    "def function_name(arg1,arg2):"
   ]
  },
  {
   "cell_type": "code",
   "execution_count": null,
   "id": "12617155",
   "metadata": {},
   "outputs": [],
   "source": [
    "Q4\n",
    "\n",
    "1)Function definition is a body of function where the actions to be performed by the function are specified. Memory is not allocated to a function unless it is executed.\n",
    "2)Function call is way of calling the previously defined function when the need arises. Memory is allocated to the function  as soon as function call is encountered."
   ]
  },
  {
   "cell_type": "code",
   "execution_count": null,
   "id": "5b373f43",
   "metadata": {},
   "outputs": [],
   "source": [
    "Q5\n",
    "\n",
    "Global scope is acessible from anywhere in the program while local scope is limited to the function body."
   ]
  },
  {
   "cell_type": "code",
   "execution_count": null,
   "id": "d8446e5f",
   "metadata": {},
   "outputs": [],
   "source": [
    "Q6\n",
    "\n",
    "Variables in a local scope are poped from the memory after the function call returns."
   ]
  },
  {
   "cell_type": "code",
   "execution_count": null,
   "id": "b9d36110",
   "metadata": {},
   "outputs": [],
   "source": [
    "Q7\n",
    "\n",
    "return value is a value returned by the function whenever it is called, it can be of any datatype.\n",
    "A function can also return an expression."
   ]
  },
  {
   "cell_type": "code",
   "execution_count": null,
   "id": "d5983dc5",
   "metadata": {},
   "outputs": [],
   "source": [
    "Q8\n",
    "\n",
    "If a function does not have a return statement, it returns the None object of class NoneType.\n"
   ]
  },
  {
   "cell_type": "code",
   "execution_count": null,
   "id": "772aa8e2",
   "metadata": {},
   "outputs": [],
   "source": [
    "Q9\n",
    "\n",
    "Use global keyword to refer global variable inside a function"
   ]
  },
  {
   "cell_type": "code",
   "execution_count": null,
   "id": "7febd7cb",
   "metadata": {},
   "outputs": [],
   "source": [
    "Q10\n",
    "\n",
    "The datatype of None is NoneType"
   ]
  },
  {
   "cell_type": "code",
   "execution_count": null,
   "id": "c81811ef",
   "metadata": {},
   "outputs": [],
   "source": [
    "Q11\n",
    "\n",
    "It will import the module named as areallyourpetsnamederic into the program."
   ]
  },
  {
   "cell_type": "code",
   "execution_count": null,
   "id": "c4819940",
   "metadata": {},
   "outputs": [],
   "source": [
    "Q12\n",
    "\n",
    "spam.bacon()"
   ]
  },
  {
   "cell_type": "code",
   "execution_count": null,
   "id": "3628b036",
   "metadata": {},
   "outputs": [],
   "source": [
    "Q13\n",
    "\n",
    "Put the code inside try except block to avoid it from crashing whenever an error is encounterd"
   ]
  },
  {
   "cell_type": "code",
   "execution_count": null,
   "id": "385405e5",
   "metadata": {},
   "outputs": [],
   "source": [
    "Q14\n",
    "\n",
    "try clause checks if the error has occurred.\n",
    "except block is wrtten to handle the error."
   ]
  }
 ],
 "metadata": {
  "kernelspec": {
   "display_name": "Python 3 (ipykernel)",
   "language": "python",
   "name": "python3"
  },
  "language_info": {
   "codemirror_mode": {
    "name": "ipython",
    "version": 3
   },
   "file_extension": ".py",
   "mimetype": "text/x-python",
   "name": "python",
   "nbconvert_exporter": "python",
   "pygments_lexer": "ipython3",
   "version": "3.9.13"
  }
 },
 "nbformat": 4,
 "nbformat_minor": 5
}
