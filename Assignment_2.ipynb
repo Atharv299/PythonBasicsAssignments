{
 "cells": [
  {
   "cell_type": "code",
   "execution_count": null,
   "id": "3af05214",
   "metadata": {},
   "outputs": [],
   "source": [
    "Q1\n",
    "\n",
    "Boolean datatype can take two values either True or False.\n",
    "eg. a=True\n",
    "    b=False"
   ]
  },
  {
   "cell_type": "code",
   "execution_count": null,
   "id": "d02ae540",
   "metadata": {},
   "outputs": [],
   "source": [
    "Q2\n",
    "\n",
    "Following are the three types of boolean operators\n",
    "1) and\n",
    "2) or\n",
    "3) not"
   ]
  },
  {
   "cell_type": "code",
   "execution_count": null,
   "id": "b86dc67f",
   "metadata": {},
   "outputs": [],
   "source": [
    "Q3\n",
    "\n",
    "Truth table for and operator:\n",
    "    True and True--------->True\n",
    "    True and False-------->False\n",
    "    False and False------->False\n",
    "    False and True-------->False\n",
    "    \n",
    "Truth table for or operator:\n",
    "    True or True--------->True\n",
    "    True or False-------->True\n",
    "    False or False------->False\n",
    "    False or True-------->True\n",
    "    \n",
    "Truth table for not operator:\n",
    "    not True------------->False\n",
    "    not False------------>True"
   ]
  },
  {
   "cell_type": "code",
   "execution_count": null,
   "id": "dd3709df",
   "metadata": {},
   "outputs": [],
   "source": [
    "Q4\n",
    "\n",
    "1) True\n",
    "2) False\n",
    "3) True\n",
    "4) False\n",
    "5) False\n",
    "6) True"
   ]
  },
  {
   "cell_type": "code",
   "execution_count": null,
   "id": "e59f54e1",
   "metadata": {},
   "outputs": [],
   "source": [
    "Q5\n",
    "\n",
    "1) >  greater than\n",
    "2) <  less than\n",
    "3) >= greater than equal to\n",
    "4) <= less than equal to\n",
    "5) == is equal\n",
    "6) != is not equal\n"
   ]
  },
  {
   "cell_type": "code",
   "execution_count": null,
   "id": "0647bdc1",
   "metadata": {},
   "outputs": [],
   "source": [
    "Q6\n",
    "\n",
    "The equal to operator is used to check if values of two variables are equal or not.It returns true if the values are equal and False if the values are unequal whereas the assignment operator is used to assign value to a varible\n",
    "equal to operator can be used in if else checking conditions but not assignment operator \n",
    "1)use assignment operator to store the value in variable\n",
    "2)use equal to operator to compare the value stored in variable with another variable"
   ]
  },
  {
   "cell_type": "code",
   "execution_count": null,
   "id": "2fcb5ac9",
   "metadata": {},
   "outputs": [],
   "source": [
    "Q7\n",
    "\n",
    "#Block1\n",
    "if spam==10:\n",
    "    print('eggs')\n",
    "    \n",
    "#Block2\n",
    "if spam>5:\n",
    "    print('bacon')\n",
    "\n",
    "#Block3\n",
    "else:\n",
    "    print('ham')\n",
    "    print('spam')\n",
    "    print('spam')"
   ]
  },
  {
   "cell_type": "code",
   "execution_count": null,
   "id": "0ef4c569",
   "metadata": {},
   "outputs": [],
   "source": [
    "Q8\n",
    "\n",
    "spam=int(input())\n",
    "if spam==1:\n",
    "    print(\"Hello\")\n",
    "elif spam==2:\n",
    "    print(\"Howdy\")\n",
    "else:\n",
    "    print(\"Greetings!\")"
   ]
  },
  {
   "cell_type": "code",
   "execution_count": null,
   "id": "e420060f",
   "metadata": {},
   "outputs": [],
   "source": [
    "Q9\n",
    "\n",
    "Press Ctrl+C to abort the running pogram"
   ]
  },
  {
   "cell_type": "code",
   "execution_count": null,
   "id": "0562d70a",
   "metadata": {},
   "outputs": [],
   "source": [
    "Q10 \n",
    "\n",
    "1)break statement pass the control outside the block of inner loop where it is mentioned.\n",
    "2)continue statement pass the control to the next iteration of the inner loop where it is mentioned."
   ]
  },
  {
   "cell_type": "code",
   "execution_count": null,
   "id": "09ef8846",
   "metadata": {},
   "outputs": [],
   "source": [
    "Q11\n",
    "\n",
    "range(10):\n",
    "    It will generate the sequence from 0 to 9. Here 0 is defualt start value, 10 represents final value and 1 is defualt step size so the sequence is generated from start value till the final value-1 with given step size\n",
    "range(0,10):\n",
    "    It will generate the sequence from 0 to 9. Here 0 and 10 represents start value and final value respectively and 1 is defualt step size so the sequence is generated from start value till the final value-1 with given step size\n",
    "range(0,10,1):\n",
    "    It will generate the sequence from 0 to 9. Here 0,10 and 1 represents start value,final value and step size rspectively so the sequence is generated from start value till the final value-1 with given step size"
   ]
  },
  {
   "cell_type": "code",
   "execution_count": null,
   "id": "88dbfbc2",
   "metadata": {},
   "outputs": [],
   "source": [
    "Q12\n",
    "\n",
    "#Using for loop\n",
    "for i in range(1,11):\n",
    "    print(i)\n",
    "    \n",
    "#Using while loop\n",
    "i=1\n",
    "while(i<=10):\n",
    "    print(i)\n",
    "    i=i+1"
   ]
  },
  {
   "cell_type": "code",
   "execution_count": null,
   "id": "249851c4",
   "metadata": {},
   "outputs": [],
   "source": [
    "Q13\n",
    "\n",
    "spam.bacon()"
   ]
  }
 ],
 "metadata": {
  "kernelspec": {
   "display_name": "Python 3 (ipykernel)",
   "language": "python",
   "name": "python3"
  },
  "language_info": {
   "codemirror_mode": {
    "name": "ipython",
    "version": 3
   },
   "file_extension": ".py",
   "mimetype": "text/x-python",
   "name": "python",
   "nbconvert_exporter": "python",
   "pygments_lexer": "ipython3",
   "version": "3.9.13"
  }
 },
 "nbformat": 4,
 "nbformat_minor": 5
}
