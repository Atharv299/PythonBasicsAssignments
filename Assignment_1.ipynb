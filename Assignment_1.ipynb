{
 "cells": [
  {
   "cell_type": "code",
   "execution_count": null,
   "id": "4cca7c40",
   "metadata": {},
   "outputs": [],
   "source": [
    "Q1\n",
    "\n",
    "* ----------> expression\n",
    "'hello'-----> value\n",
    "-87.8-------> value\n",
    "- ----------> expression\n",
    "/ ----------> expression\n",
    "+ ----------> expression\n",
    "6 ----------> value"
   ]
  },
  {
   "cell_type": "code",
   "execution_count": null,
   "id": "57f20463",
   "metadata": {},
   "outputs": [],
   "source": [
    "Q2\n",
    "\n",
    "String:\n",
    "\n",
    "    1) String is a built-in datatype in python.\n",
    "    2) Identifiers and literals both can be of string datatype.\n",
    "    3) Strings are immutable data type.\n",
    "    4) String literal can be any combination of special characters and alphanumeric characters.\n",
    "    5) String literal is specified under \" \" or ' '.\n",
    "   \n",
    "Variable:\n",
    "\n",
    "    1) Variable is also called as identifier which is a label used to refer a literal of various datatypes such as \n",
    "       int,float,string stored in main memory etc.\n",
    "    2) Variable can be of any datatype.\n",
    "    3) Variable names can be any combination of alphanumeric characters and underscore except a variable name starting with a \n",
    "       numeric character.\n",
    "    4) The literal labeled by a variable can be changed hence it is variable."
   ]
  },
  {
   "cell_type": "code",
   "execution_count": null,
   "id": "1839bc22",
   "metadata": {},
   "outputs": [],
   "source": [
    "Q3\n",
    "\n",
    "Following are some of the buit-in datatypes in python\n",
    "1) Integer: integer rpresents integers without any fractional part.It can be zero, negative and positive. eg. 6,-89\n",
    "2) Float: float represents the real numbers having a decimal point or fractional part. eg. 9.78, -244.554, 3.3e2\n",
    "3) Complex: complex datatype represents a complex number eg. 2-3j, -7+2J\n",
    "4) String: It is any combination of special or alphanumeric charaters.eg \"ram\",\"Rock-24\",\"#UTF-8\"\n",
    "5) List: list is a collection of literals of any kind of datatypes. Lists are mutable. eg.[\"War\", 33, True, 2+5j]\n",
    "6) Boolean: It represents any value in True or False terms. eg. True/False\n",
    "7) tuple: It is similar to list datatype but it is immutable. eg.(2,33,\"Laxman\",-22.8)\n",
    "8) set: it is an unorderd collection of any kind  of datatype objects.Sets are immutable eg. {1,2,44,\"strong\",11.22}\n",
    "9) dictionary: it is a collection of key value mapped pairs. eg.{\"ram\":1, \"sita\":2, 45: \"number\"}\n"
   ]
  },
  {
   "cell_type": "code",
   "execution_count": null,
   "id": "09072771",
   "metadata": {},
   "outputs": [],
   "source": [
    "Q4\n",
    "\n",
    "An expression is any combination of operaters and operands.\n",
    "An expression may contain literals and  variables both or either.\n",
    "The expression gives a result value after the evalution.\n",
    "a=1\n",
    "eg. 4*3-(4+5)/a+6\n",
    "    here, operators used are (),*,-,+./ \n",
    "    operands used are 4,3,5 and a\n",
    "    result after the evalution is 9\n",
    "    "
   ]
  },
  {
   "cell_type": "code",
   "execution_count": null,
   "id": "e21a1301",
   "metadata": {},
   "outputs": [],
   "source": [
    "Q5\n",
    "\n",
    "Expression:\n",
    "    An expresion does not contain assignment operation.\n",
    "    An expression always leads to a evalution result.\n",
    "Statements:\n",
    "    An assignment statement is simple assignment operation where the right side of the assignment operator is a literal.\n",
    "    "
   ]
  },
  {
   "cell_type": "code",
   "execution_count": null,
   "id": "686f59d7",
   "metadata": {},
   "outputs": [],
   "source": [
    "Q6\n",
    "\n",
    "After running the code\n",
    "bacon=23"
   ]
  },
  {
   "cell_type": "code",
   "execution_count": null,
   "id": "0c2ef7b8",
   "metadata": {},
   "outputs": [],
   "source": [
    "Q7\n",
    "\n",
    "'spamspamspam'\n",
    "'spamspamspam'\n"
   ]
  },
  {
   "cell_type": "code",
   "execution_count": null,
   "id": "90c7b934",
   "metadata": {},
   "outputs": [],
   "source": [
    "Q8\n",
    "\n",
    "eggs is a valid variable name because a variable name can be a valid combination of small case alphabets\n",
    "100 is not a valid variable name because a variable name cannot start with a numeric character.\n"
   ]
  },
  {
   "cell_type": "code",
   "execution_count": null,
   "id": "289bf537",
   "metadata": {},
   "outputs": [],
   "source": [
    "Q9\n",
    "\n",
    "int(value) ------>for conversion integer\n",
    "float(value) ---->for conversion into floating point\n",
    "str(value) ------>for conversion into string"
   ]
  },
  {
   "cell_type": "code",
   "execution_count": null,
   "id": "f89d60e2",
   "metadata": {},
   "outputs": [],
   "source": [
    "Q10\n",
    "\n",
    "The error will be raised beacasue the + operator has differnt operands on both the sides 'int' and 'string' which is an invalid operation\n",
    "here, 99 can be converted into string to reslve the error.\n",
    "\n",
    "'I have eaten'+' 99 '+'burritos'"
   ]
  }
 ],
 "metadata": {
  "kernelspec": {
   "display_name": "Python 3 (ipykernel)",
   "language": "python",
   "name": "python3"
  },
  "language_info": {
   "codemirror_mode": {
    "name": "ipython",
    "version": 3
   },
   "file_extension": ".py",
   "mimetype": "text/x-python",
   "name": "python",
   "nbconvert_exporter": "python",
   "pygments_lexer": "ipython3",
   "version": "3.9.13"
  }
 },
 "nbformat": 4,
 "nbformat_minor": 5
}
