{
 "cells": [
  {
   "cell_type": "code",
   "execution_count": 7,
   "id": "b3981b87",
   "metadata": {},
   "outputs": [
    {
     "name": "stdout",
     "output_type": "stream",
     "text": [
      "Enter the array elements 2 31 22 34\n",
      "The sum of the elements of array is  89\n"
     ]
    }
   ],
   "source": [
    "Q1\n",
    "\n",
    "from array import *\n",
    "arr=array('i',[int(x) for x in input(\"Enter the array elements \").split(\" \")])\n",
    "print(\"The sum of the elements of array is \",sum(arr))"
   ]
  },
  {
   "cell_type": "code",
   "execution_count": 8,
   "id": "5cfe0367",
   "metadata": {},
   "outputs": [
    {
     "name": "stdout",
     "output_type": "stream",
     "text": [
      "Enter the array elements 22 33 11 32\n",
      "The maximum element of array is  33\n"
     ]
    }
   ],
   "source": [
    "Q2\n",
    "\n",
    "from array import *\n",
    "arr=array('i',[int(x) for x in input(\"Enter the array elements \").split(\" \")])\n",
    "print(\"The maximum element of array is \",max(arr))"
   ]
  },
  {
   "cell_type": "code",
   "execution_count": 10,
   "id": "f9284279",
   "metadata": {},
   "outputs": [
    {
     "name": "stdout",
     "output_type": "stream",
     "text": [
      "Enter the array elements 1 2 3 45 66\n",
      "Array after the left rotation \n",
      "2 3 45 66 1 "
     ]
    }
   ],
   "source": [
    "Q3\n",
    "\n",
    "from array import *\n",
    "arr=array('i',[int(x) for x in input(\"Enter the array elements \").split(\" \")])\n",
    "temp=arr[0]\n",
    "for i in range(1,len(arr)):\n",
    "    arr[i-1]=arr[i]\n",
    "arr[len(arr)-1]=temp\n",
    "print(\"Array after the left rotation \")\n",
    "for i in arr:\n",
    "    print(i,end=\" \")"
   ]
  },
  {
   "cell_type": "code",
   "execution_count": 12,
   "id": "634118ca",
   "metadata": {},
   "outputs": [
    {
     "name": "stdout",
     "output_type": "stream",
     "text": [
      "Enter the array elements 1 2 3 5 77 88 54\n",
      "Enter the split index 3\n",
      "Array after the left rotation  5 77 88 54 1 2 3 "
     ]
    }
   ],
   "source": [
    "Q4\n",
    "\n",
    "from array import *\n",
    "arr=array('i',[int(x) for x in input(\"Enter the array elements \").split(\" \")])\n",
    "n=int(input(\"Enter the split index \"))\n",
    "for i in range(len(arr)):\n",
    "    if i==n:\n",
    "        break\n",
    "    arr.append(arr.pop(0))\n",
    "print(\"Array after the left rotation \",end=\" \")\n",
    "for i in arr:\n",
    "    print(i,end=\" \")"
   ]
  },
  {
   "cell_type": "code",
   "execution_count": 28,
   "id": "ae0ea5c5",
   "metadata": {},
   "outputs": [
    {
     "name": "stdout",
     "output_type": "stream",
     "text": [
      "Enter the array elements 11 22 44\n",
      "Array is monotonic \n"
     ]
    }
   ],
   "source": [
    "Q5\n",
    "\n",
    "from array import *\n",
    "arr=array('i',[int(x) for x in input(\"Enter the array elements \").split(\" \")])\n",
    "sorted_arr=sorted(arr)\n",
    "rev_sorted=sorted(arr, reverse=True)\n",
    "if sorted_arr==list(arr) or rev_sorted==list(arr):\n",
    "    print(\"Array is monotonic \")\n",
    "else:\n",
    "    print(\"Array is not monotonic \")"
   ]
  }
 ],
 "metadata": {
  "kernelspec": {
   "display_name": "Python 3",
   "language": "python",
   "name": "python3"
  },
  "language_info": {
   "codemirror_mode": {
    "name": "ipython",
    "version": 3
   },
   "file_extension": ".py",
   "mimetype": "text/x-python",
   "name": "python",
   "nbconvert_exporter": "python",
   "pygments_lexer": "ipython3",
   "version": "3.9.0"
  }
 },
 "nbformat": 4,
 "nbformat_minor": 5
}
