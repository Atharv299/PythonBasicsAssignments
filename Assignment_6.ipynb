{
 "cells": [
  {
   "cell_type": "code",
   "execution_count": null,
   "id": "d727f07d",
   "metadata": {},
   "outputs": [],
   "source": [
    "Q1\n",
    "\n",
    "Escape characters are non-printable characters when backslash precedes them. The print statements do not print escape characters."
   ]
  },
  {
   "cell_type": "code",
   "execution_count": null,
   "id": "6f7afcb5",
   "metadata": {},
   "outputs": [],
   "source": [
    "Q2\n",
    "\n",
    "Escape character n stands for newline and t stands for tab space."
   ]
  },
  {
   "cell_type": "code",
   "execution_count": null,
   "id": "92212fd0",
   "metadata": {},
   "outputs": [],
   "source": [
    "Q3\n",
    "\n",
    "To include backslash character in string use  escape sequence '\\\\'"
   ]
  },
  {
   "cell_type": "code",
   "execution_count": null,
   "id": "6070fe7b",
   "metadata": {},
   "outputs": [],
   "source": [
    "Q4\n",
    "\n",
    "The single quote character in the word How|'s has not escaped because the escape character used is anappropriate.The word should have been \"How\\'s\""
   ]
  },
  {
   "cell_type": "code",
   "execution_count": null,
   "id": "1751042d",
   "metadata": {},
   "outputs": [],
   "source": [
    "Q5\n",
    "\n",
    "Include every string in new print() function."
   ]
  },
  {
   "cell_type": "code",
   "execution_count": null,
   "id": "c00c5a28",
   "metadata": {},
   "outputs": [],
   "source": [
    "Q6\n",
    "\n",
    "1) 'e'\n",
    "2) 'Hello'\n",
    "3) 'Hello'\n",
    "4) 'lo, world!'"
   ]
  },
  {
   "cell_type": "code",
   "execution_count": null,
   "id": "1a95867c",
   "metadata": {},
   "outputs": [],
   "source": [
    "Q7\n",
    "\n",
    "1)'HELLO'\n",
    "2) True\n",
    "3)'hello'"
   ]
  },
  {
   "cell_type": "code",
   "execution_count": null,
   "id": "98f1e50e",
   "metadata": {},
   "outputs": [],
   "source": [
    "Q8\n",
    "\n",
    "1)['Remember,', 'remember,', 'the', 'fifth', 'of', 'July.']\n",
    "2)'There-can-only-one.'"
   ]
  },
  {
   "cell_type": "code",
   "execution_count": null,
   "id": "f829e599",
   "metadata": {},
   "outputs": [],
   "source": [
    "Q9\n",
    "\n",
    "Use the method ljust() to left justify, rjust() to right justify and center() to center the string."
   ]
  },
  {
   "cell_type": "code",
   "execution_count": null,
   "id": "9c6fd015",
   "metadata": {},
   "outputs": [],
   "source": [
    "Q10\n",
    "\n",
    "Use rstrip() method to remove whitespaces from the end and lstrip() method to remove whitespaces from start.\n",
    "Use strip() method  to remove whitespaces from the start as well as end."
   ]
  }
 ],
 "metadata": {
  "kernelspec": {
   "display_name": "Python 3 (ipykernel)",
   "language": "python",
   "name": "python3"
  },
  "language_info": {
   "codemirror_mode": {
    "name": "ipython",
    "version": 3
   },
   "file_extension": ".py",
   "mimetype": "text/x-python",
   "name": "python",
   "nbconvert_exporter": "python",
   "pygments_lexer": "ipython3",
   "version": "3.9.13"
  }
 },
 "nbformat": 4,
 "nbformat_minor": 5
}
